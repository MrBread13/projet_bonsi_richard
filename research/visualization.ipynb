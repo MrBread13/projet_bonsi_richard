{
 "cells": [
  {
   "attachments": {},
   "cell_type": "markdown",
   "metadata": {},
   "source": [
    "# Ceci est un notebook pour la visualisation préliminaire des données du projet"
   ]
  },
  {
   "cell_type": "code",
   "execution_count": 1,
   "metadata": {},
   "outputs": [],
   "source": [
    "import pandas as pd\n",
    "import numpy as np\n",
    "import plotly.express as px\n",
    "import plotly.graph_objects as go\n",
    "import plotly.io as pio\n"
   ]
  },
  {
   "cell_type": "code",
   "execution_count": 2,
   "metadata": {},
   "outputs": [],
   "source": [
    "#importer tous les fichiers csv du dossier transactions-ser avec pandas et les concatener dans un seul fichier pickle\n",
    "def import_csv():\n",
    "    import glob\n",
    "    import os\n",
    "    import pickle\n",
    "    path = r'./transactions-ser'\n",
    "    all_files = glob.glob(os.path.join(path, \"*.csv\"))\n",
    "    df_from_each_file = (pd.read_csv(f, sep=';') for f in all_files)\n",
    "    df = pd.concat(df_from_each_file, ignore_index=True)\n",
    "    df.to_pickle(\"transaction_ser.pkl\")\n",
    "    return df\n",
    "    "
   ]
  },
  {
   "cell_type": "code",
   "execution_count": 3,
   "metadata": {},
   "outputs": [
    {
     "data": {
      "text/html": [
       "<div>\n",
       "<style scoped>\n",
       "    .dataframe tbody tr th:only-of-type {\n",
       "        vertical-align: middle;\n",
       "    }\n",
       "\n",
       "    .dataframe tbody tr th {\n",
       "        vertical-align: top;\n",
       "    }\n",
       "\n",
       "    .dataframe thead th {\n",
       "        text-align: right;\n",
       "    }\n",
       "</style>\n",
       "<table border=\"1\" class=\"dataframe\">\n",
       "  <thead>\n",
       "    <tr style=\"text-align: right;\">\n",
       "      <th></th>\n",
       "      <th>id_mutation</th>\n",
       "      <th>date_mutation</th>\n",
       "      <th>numero_disposition</th>\n",
       "      <th>nature_mutation</th>\n",
       "      <th>valeur_fonciere</th>\n",
       "      <th>adresse_numero</th>\n",
       "      <th>adresse_suffixe</th>\n",
       "      <th>adresse_nom_voie</th>\n",
       "      <th>adresse_code_voie</th>\n",
       "      <th>code_postal</th>\n",
       "      <th>...</th>\n",
       "      <th>surface_reelle_bati</th>\n",
       "      <th>nombre_pieces_principales</th>\n",
       "      <th>code_nature_culture</th>\n",
       "      <th>nature_culture</th>\n",
       "      <th>code_nature_culture_speciale</th>\n",
       "      <th>nature_culture_speciale</th>\n",
       "      <th>surface_terrain</th>\n",
       "      <th>longitude</th>\n",
       "      <th>latitude</th>\n",
       "      <th>section_prefixe</th>\n",
       "    </tr>\n",
       "  </thead>\n",
       "  <tbody>\n",
       "    <tr>\n",
       "      <th>0</th>\n",
       "      <td>2022-360376</td>\n",
       "      <td>2022-05-16</td>\n",
       "      <td>1</td>\n",
       "      <td>Vente</td>\n",
       "      <td>170000.0</td>\n",
       "      <td>6.0</td>\n",
       "      <td>None</td>\n",
       "      <td>PL DE L EGLISE</td>\n",
       "      <td>730</td>\n",
       "      <td>76800</td>\n",
       "      <td>...</td>\n",
       "      <td>80.0</td>\n",
       "      <td>4.0</td>\n",
       "      <td>S</td>\n",
       "      <td>sols</td>\n",
       "      <td>None</td>\n",
       "      <td>None</td>\n",
       "      <td>319.0</td>\n",
       "      <td>1.106595</td>\n",
       "      <td>49.382037</td>\n",
       "      <td>000AZ</td>\n",
       "    </tr>\n",
       "    <tr>\n",
       "      <th>1</th>\n",
       "      <td>2022-360376</td>\n",
       "      <td>2022-05-16</td>\n",
       "      <td>1</td>\n",
       "      <td>Vente</td>\n",
       "      <td>170000.0</td>\n",
       "      <td>37.0</td>\n",
       "      <td>None</td>\n",
       "      <td>RUE GAMBETTA</td>\n",
       "      <td>974</td>\n",
       "      <td>76800</td>\n",
       "      <td>...</td>\n",
       "      <td>NaN</td>\n",
       "      <td>NaN</td>\n",
       "      <td>S</td>\n",
       "      <td>sols</td>\n",
       "      <td>None</td>\n",
       "      <td>None</td>\n",
       "      <td>234.0</td>\n",
       "      <td>1.106238</td>\n",
       "      <td>49.382039</td>\n",
       "      <td>000AZ</td>\n",
       "    </tr>\n",
       "    <tr>\n",
       "      <th>2</th>\n",
       "      <td>2021-1184802</td>\n",
       "      <td>2021-11-10</td>\n",
       "      <td>1</td>\n",
       "      <td>Vente</td>\n",
       "      <td>107000.0</td>\n",
       "      <td>39.0</td>\n",
       "      <td>None</td>\n",
       "      <td>RUE GAMBETTA</td>\n",
       "      <td>974</td>\n",
       "      <td>76800</td>\n",
       "      <td>...</td>\n",
       "      <td>80.0</td>\n",
       "      <td>4.0</td>\n",
       "      <td>S</td>\n",
       "      <td>sols</td>\n",
       "      <td>None</td>\n",
       "      <td>None</td>\n",
       "      <td>38.0</td>\n",
       "      <td>1.106127</td>\n",
       "      <td>49.382122</td>\n",
       "      <td>000AZ</td>\n",
       "    </tr>\n",
       "    <tr>\n",
       "      <th>3</th>\n",
       "      <td>2021-1184802</td>\n",
       "      <td>2021-11-10</td>\n",
       "      <td>1</td>\n",
       "      <td>Vente</td>\n",
       "      <td>107000.0</td>\n",
       "      <td>39.0</td>\n",
       "      <td>None</td>\n",
       "      <td>RUE GAMBETTA</td>\n",
       "      <td>974</td>\n",
       "      <td>76800</td>\n",
       "      <td>...</td>\n",
       "      <td>NaN</td>\n",
       "      <td>0.0</td>\n",
       "      <td>S</td>\n",
       "      <td>sols</td>\n",
       "      <td>None</td>\n",
       "      <td>None</td>\n",
       "      <td>38.0</td>\n",
       "      <td>1.106127</td>\n",
       "      <td>49.382122</td>\n",
       "      <td>000AZ</td>\n",
       "    </tr>\n",
       "    <tr>\n",
       "      <th>4</th>\n",
       "      <td>2021-1184802</td>\n",
       "      <td>2021-11-10</td>\n",
       "      <td>1</td>\n",
       "      <td>Vente</td>\n",
       "      <td>107000.0</td>\n",
       "      <td>37.0</td>\n",
       "      <td>None</td>\n",
       "      <td>RUE GAMBETTA</td>\n",
       "      <td>974</td>\n",
       "      <td>76800</td>\n",
       "      <td>...</td>\n",
       "      <td>NaN</td>\n",
       "      <td>NaN</td>\n",
       "      <td>S</td>\n",
       "      <td>sols</td>\n",
       "      <td>None</td>\n",
       "      <td>None</td>\n",
       "      <td>234.0</td>\n",
       "      <td>1.106238</td>\n",
       "      <td>49.382039</td>\n",
       "      <td>000AZ</td>\n",
       "    </tr>\n",
       "    <tr>\n",
       "      <th>...</th>\n",
       "      <td>...</td>\n",
       "      <td>...</td>\n",
       "      <td>...</td>\n",
       "      <td>...</td>\n",
       "      <td>...</td>\n",
       "      <td>...</td>\n",
       "      <td>...</td>\n",
       "      <td>...</td>\n",
       "      <td>...</td>\n",
       "      <td>...</td>\n",
       "      <td>...</td>\n",
       "      <td>...</td>\n",
       "      <td>...</td>\n",
       "      <td>...</td>\n",
       "      <td>...</td>\n",
       "      <td>...</td>\n",
       "      <td>...</td>\n",
       "      <td>...</td>\n",
       "      <td>...</td>\n",
       "      <td>...</td>\n",
       "      <td>...</td>\n",
       "    </tr>\n",
       "    <tr>\n",
       "      <th>2967</th>\n",
       "      <td>2017-543786</td>\n",
       "      <td>2017-08-28</td>\n",
       "      <td>1</td>\n",
       "      <td>Vente</td>\n",
       "      <td>65000.0</td>\n",
       "      <td>4.0</td>\n",
       "      <td>None</td>\n",
       "      <td>RUE DE FORT DE VAUX</td>\n",
       "      <td>910</td>\n",
       "      <td>76800</td>\n",
       "      <td>...</td>\n",
       "      <td>32.0</td>\n",
       "      <td>2.0</td>\n",
       "      <td>S</td>\n",
       "      <td>sols</td>\n",
       "      <td>None</td>\n",
       "      <td>None</td>\n",
       "      <td>268.0</td>\n",
       "      <td>1.107607</td>\n",
       "      <td>49.374767</td>\n",
       "      <td>000AT</td>\n",
       "    </tr>\n",
       "    <tr>\n",
       "      <th>2968</th>\n",
       "      <td>2017-543907</td>\n",
       "      <td>2017-08-25</td>\n",
       "      <td>1</td>\n",
       "      <td>Vente</td>\n",
       "      <td>181400.0</td>\n",
       "      <td>19.0</td>\n",
       "      <td>None</td>\n",
       "      <td>RUE DE LORRAINE</td>\n",
       "      <td>1510</td>\n",
       "      <td>76800</td>\n",
       "      <td>...</td>\n",
       "      <td>130.0</td>\n",
       "      <td>6.0</td>\n",
       "      <td>S</td>\n",
       "      <td>sols</td>\n",
       "      <td>None</td>\n",
       "      <td>None</td>\n",
       "      <td>401.0</td>\n",
       "      <td>1.100599</td>\n",
       "      <td>49.373885</td>\n",
       "      <td>000AT</td>\n",
       "    </tr>\n",
       "    <tr>\n",
       "      <th>2969</th>\n",
       "      <td>2017-543907</td>\n",
       "      <td>2017-08-25</td>\n",
       "      <td>1</td>\n",
       "      <td>Vente</td>\n",
       "      <td>181400.0</td>\n",
       "      <td>19.0</td>\n",
       "      <td>None</td>\n",
       "      <td>RUE DE LORRAINE</td>\n",
       "      <td>1510</td>\n",
       "      <td>76800</td>\n",
       "      <td>...</td>\n",
       "      <td>NaN</td>\n",
       "      <td>NaN</td>\n",
       "      <td>J</td>\n",
       "      <td>jardins</td>\n",
       "      <td>POTAG</td>\n",
       "      <td>Jardin potager</td>\n",
       "      <td>89.0</td>\n",
       "      <td>1.100471</td>\n",
       "      <td>49.373929</td>\n",
       "      <td>000AT</td>\n",
       "    </tr>\n",
       "    <tr>\n",
       "      <th>2970</th>\n",
       "      <td>2017-543682</td>\n",
       "      <td>2017-08-21</td>\n",
       "      <td>1</td>\n",
       "      <td>Vente</td>\n",
       "      <td>199000.0</td>\n",
       "      <td>29.0</td>\n",
       "      <td>None</td>\n",
       "      <td>CHE DU BON CLOS</td>\n",
       "      <td>300</td>\n",
       "      <td>76800</td>\n",
       "      <td>...</td>\n",
       "      <td>118.0</td>\n",
       "      <td>5.0</td>\n",
       "      <td>S</td>\n",
       "      <td>sols</td>\n",
       "      <td>None</td>\n",
       "      <td>None</td>\n",
       "      <td>362.0</td>\n",
       "      <td>1.100397</td>\n",
       "      <td>49.374971</td>\n",
       "      <td>000AT</td>\n",
       "    </tr>\n",
       "    <tr>\n",
       "      <th>2971</th>\n",
       "      <td>2017-542967</td>\n",
       "      <td>2017-07-10</td>\n",
       "      <td>1</td>\n",
       "      <td>Vente</td>\n",
       "      <td>196500.0</td>\n",
       "      <td>2.0</td>\n",
       "      <td>None</td>\n",
       "      <td>RUE EMILE ZOLA</td>\n",
       "      <td>750</td>\n",
       "      <td>76800</td>\n",
       "      <td>...</td>\n",
       "      <td>118.0</td>\n",
       "      <td>5.0</td>\n",
       "      <td>S</td>\n",
       "      <td>sols</td>\n",
       "      <td>None</td>\n",
       "      <td>None</td>\n",
       "      <td>714.0</td>\n",
       "      <td>1.100223</td>\n",
       "      <td>49.373475</td>\n",
       "      <td>000AT</td>\n",
       "    </tr>\n",
       "  </tbody>\n",
       "</table>\n",
       "<p>2972 rows × 41 columns</p>\n",
       "</div>"
      ],
      "text/plain": [
       "       id_mutation date_mutation  numero_disposition nature_mutation  \\\n",
       "0      2022-360376    2022-05-16                   1           Vente   \n",
       "1      2022-360376    2022-05-16                   1           Vente   \n",
       "2     2021-1184802    2021-11-10                   1           Vente   \n",
       "3     2021-1184802    2021-11-10                   1           Vente   \n",
       "4     2021-1184802    2021-11-10                   1           Vente   \n",
       "...            ...           ...                 ...             ...   \n",
       "2967   2017-543786    2017-08-28                   1           Vente   \n",
       "2968   2017-543907    2017-08-25                   1           Vente   \n",
       "2969   2017-543907    2017-08-25                   1           Vente   \n",
       "2970   2017-543682    2017-08-21                   1           Vente   \n",
       "2971   2017-542967    2017-07-10                   1           Vente   \n",
       "\n",
       "      valeur_fonciere  adresse_numero adresse_suffixe     adresse_nom_voie  \\\n",
       "0            170000.0             6.0            None       PL DE L EGLISE   \n",
       "1            170000.0            37.0            None         RUE GAMBETTA   \n",
       "2            107000.0            39.0            None         RUE GAMBETTA   \n",
       "3            107000.0            39.0            None         RUE GAMBETTA   \n",
       "4            107000.0            37.0            None         RUE GAMBETTA   \n",
       "...               ...             ...             ...                  ...   \n",
       "2967          65000.0             4.0            None  RUE DE FORT DE VAUX   \n",
       "2968         181400.0            19.0            None      RUE DE LORRAINE   \n",
       "2969         181400.0            19.0            None      RUE DE LORRAINE   \n",
       "2970         199000.0            29.0            None      CHE DU BON CLOS   \n",
       "2971         196500.0             2.0            None       RUE EMILE ZOLA   \n",
       "\n",
       "     adresse_code_voie code_postal  ...  surface_reelle_bati  \\\n",
       "0                  730       76800  ...                 80.0   \n",
       "1                  974       76800  ...                  NaN   \n",
       "2                  974       76800  ...                 80.0   \n",
       "3                  974       76800  ...                  NaN   \n",
       "4                  974       76800  ...                  NaN   \n",
       "...                ...         ...  ...                  ...   \n",
       "2967               910       76800  ...                 32.0   \n",
       "2968              1510       76800  ...                130.0   \n",
       "2969              1510       76800  ...                  NaN   \n",
       "2970               300       76800  ...                118.0   \n",
       "2971               750       76800  ...                118.0   \n",
       "\n",
       "     nombre_pieces_principales  code_nature_culture nature_culture  \\\n",
       "0                          4.0                    S           sols   \n",
       "1                          NaN                    S           sols   \n",
       "2                          4.0                    S           sols   \n",
       "3                          0.0                    S           sols   \n",
       "4                          NaN                    S           sols   \n",
       "...                        ...                  ...            ...   \n",
       "2967                       2.0                    S           sols   \n",
       "2968                       6.0                    S           sols   \n",
       "2969                       NaN                    J        jardins   \n",
       "2970                       5.0                    S           sols   \n",
       "2971                       5.0                    S           sols   \n",
       "\n",
       "     code_nature_culture_speciale nature_culture_speciale surface_terrain  \\\n",
       "0                            None                    None           319.0   \n",
       "1                            None                    None           234.0   \n",
       "2                            None                    None            38.0   \n",
       "3                            None                    None            38.0   \n",
       "4                            None                    None           234.0   \n",
       "...                           ...                     ...             ...   \n",
       "2967                         None                    None           268.0   \n",
       "2968                         None                    None           401.0   \n",
       "2969                        POTAG          Jardin potager            89.0   \n",
       "2970                         None                    None           362.0   \n",
       "2971                         None                    None           714.0   \n",
       "\n",
       "     longitude   latitude section_prefixe  \n",
       "0     1.106595  49.382037           000AZ  \n",
       "1     1.106238  49.382039           000AZ  \n",
       "2     1.106127  49.382122           000AZ  \n",
       "3     1.106127  49.382122           000AZ  \n",
       "4     1.106238  49.382039           000AZ  \n",
       "...        ...        ...             ...  \n",
       "2967  1.107607  49.374767           000AT  \n",
       "2968  1.100599  49.373885           000AT  \n",
       "2969  1.100471  49.373929           000AT  \n",
       "2970  1.100397  49.374971           000AT  \n",
       "2971  1.100223  49.373475           000AT  \n",
       "\n",
       "[2972 rows x 41 columns]"
      ]
     },
     "execution_count": 3,
     "metadata": {},
     "output_type": "execute_result"
    }
   ],
   "source": [
    "import_csv()"
   ]
  },
  {
   "attachments": {},
   "cell_type": "markdown",
   "metadata": {},
   "source": [
    "## Données qui semblent utiles :\n",
    "-- surface réelle du bien\n",
    "\n",
    "-- surface réelle du terrain\n",
    "\n",
    "-- nombre de pièces\n",
    "\n",
    "-- localisation (adresse + code postal ou latitude/longitude ?)\n",
    "\n",
    "\n",
    "## Pour l'entrainement :\n",
    "-- prix du bien\n",
    "\n",
    "-- type de bien\n",
    "\n",
    "--date d'achat\n"
   ]
  },
  {
   "cell_type": "code",
   "execution_count": 50,
   "metadata": {},
   "outputs": [
    {
     "ename": "IndentationError",
     "evalue": "expected an indented block (592224234.py, line 40)",
     "output_type": "error",
     "traceback": [
      "\u001b[0;36m  File \u001b[0;32m\"/tmp/ipykernel_4491/592224234.py\"\u001b[0;36m, line \u001b[0;32m40\u001b[0m\n\u001b[0;31m    heatmap()\u001b[0m\n\u001b[0m    ^\u001b[0m\n\u001b[0;31mIndentationError\u001b[0m\u001b[0;31m:\u001b[0m expected an indented block\n"
     ]
    }
   ],
   "source": [
    "\n",
    "ds = pd.read_pickle('transaction_ser.pkl')\n",
    "#uniquement les types 'sols'\n",
    "ds = ds[ds['code_nature_culture'] == 'S']\n",
    "\n",
    "#supprimer les lignes avec valeur foncière qui n'est pas entre 500k \n",
    "ds = ds[ds['valeur_fonciere'] <= 500000]\n",
    "ds = ds[ds['valeur_fonciere'] >= 5000]\n",
    "#supprimer les lignes avec surface terrain > 25000\n",
    "ds = ds[ds['surface_terrain'] < 25000]\n",
    "\n",
    "#supprimer les lignes avec surface bati > 1000\n",
    "ds = ds[ds['surface_reelle_bati'] < 1000]\n",
    "\n",
    "#supprimer les lignes avec nombre de pièces > 10\n",
    "ds = ds[ds['nombre_pieces_principales'] < 10]\n",
    "ds = ds[ds['nombre_pieces_principales'] != 0]\n",
    "\n",
    "new_ds = ds\n",
    "new_ds['prix_metre_carre'] = new_ds['valeur_fonciere'] / new_ds['surface_reelle_bati']\n",
    "new_ds = new_ds[['prix_metre_carre', 'latitude', 'longitude']]\n",
    "\n",
    "new_ds = new_ds[new_ds['prix_metre_carre'] < 5000]\n",
    "new_ds = new_ds[new_ds['prix_metre_carre'] > 500]\n",
    "new_ds = new_ds.dropna()\n",
    "\n",
    "#drop lines where valeur_fonciere is grater than 2 000 000\n",
    "\n",
    "\n",
    "\n",
    "print(new_ds)\n",
    "#heatmap des prix des maisons en fct de la latitude et de la longitude\n",
    "def heatmap():\n",
    "    #x = lat\n",
    "    #y = long\n",
    "    #color\n",
    "    \n",
    "\n",
    "\n",
    "\n",
    "heatmap()"
   ]
  },
  {
   "cell_type": "markdown",
   "metadata": {},
   "source": []
  },
  {
   "cell_type": "code",
   "execution_count": 19,
   "metadata": {},
   "outputs": [
    {
     "data": {
      "text/plain": [
       "array(['sols', 'jardins', 'None', \"terrains d'agrément\",\n",
       "       'Terrain à bâtir', 'landes', 'taillis simples', 'prés', 'terres',\n",
       "       'chemin de fer'], dtype=object)"
      ]
     },
     "execution_count": 19,
     "metadata": {},
     "output_type": "execute_result"
    }
   ],
   "source": [
    "ds =  pd.read_pickle(\"transaction_ser.pkl\")\n",
    "ds.nature_culture.unique()"
   ]
  },
  {
   "cell_type": "code",
   "execution_count": 55,
   "metadata": {},
   "outputs": [
    {
     "data": {
      "application/vnd.plotly.v1+json": {
       "config": {
        "plotlyServerURL": "https://plot.ly"
       },
       "data": [
        {
         "dimensions": [
          {
           "axis": {
            "matches": true
           },
           "label": "valeur_fonciere",
           "values": [
            170000,
            107000,
            212000,
            138000,
            220000,
            157000,
            130000,
            100000,
            121000,
            125700,
            94500,
            100000,
            105000,
            290000,
            155800,
            123000,
            70000,
            147000,
            104650,
            110000,
            240000,
            240000,
            181000,
            125000,
            150000,
            127000,
            87100,
            146500,
            106400,
            130000,
            101000,
            140000,
            334000,
            165000,
            156600,
            76000,
            173000,
            215100,
            96000,
            120000,
            235000,
            185000,
            190000,
            224000,
            115550,
            182400,
            81000,
            186000,
            90000,
            136000,
            144200,
            252300,
            171000,
            182000,
            107200,
            168000,
            235000,
            120000,
            96000,
            282000,
            140000,
            159700,
            215000,
            120000,
            120000,
            90000,
            180229,
            178400,
            182300,
            180229,
            105000,
            235700,
            215000,
            135000,
            118000,
            105000,
            172450,
            130000,
            231000,
            197500,
            200800,
            111000,
            195500,
            174000,
            127500,
            190000,
            140000,
            92000,
            130000,
            175500,
            95000,
            153800,
            165000,
            220000,
            157000,
            172000,
            126000,
            150000,
            246000,
            60000,
            76500,
            188000,
            135000,
            87642.5,
            145000,
            147000,
            120000,
            230000,
            125000,
            155000,
            100000,
            100000,
            212700,
            111900,
            217500,
            98000,
            217000,
            225000,
            165000,
            221700,
            136200,
            154000,
            253650,
            110000,
            127000,
            125000,
            150000,
            133000,
            139000,
            173000,
            158500,
            171000,
            212400,
            171000,
            332800,
            304500,
            130500,
            266000,
            213600,
            276400,
            267500,
            150000,
            150000,
            95000,
            253000,
            196000,
            216000,
            250000,
            225000,
            232800,
            190000,
            219000,
            176900,
            178900,
            178900,
            192000,
            173000,
            170000,
            188276.83,
            194000,
            110000,
            261000,
            61000,
            231000,
            246000,
            150000,
            128000,
            255000,
            215000,
            196000,
            202000,
            161500,
            80000,
            142000,
            85000,
            185500,
            326000,
            254050,
            193950,
            276800,
            184500,
            186000,
            181000,
            179778,
            210000,
            222000,
            173000,
            259000,
            235900,
            104000,
            215000,
            110000,
            182000,
            110000,
            220000,
            158500,
            165000,
            140000,
            117700,
            185000,
            192000,
            145000,
            70000,
            177000,
            114900,
            190000,
            204000,
            178500,
            174000,
            112000,
            158500,
            225000,
            145000,
            262500,
            130000,
            189300,
            181300,
            176000,
            384000,
            400000,
            275000,
            258000,
            210100,
            137000,
            165000,
            123000,
            181500,
            364000,
            165000,
            120000,
            165000,
            185000,
            200000,
            230000,
            255000,
            181000,
            270000,
            194000,
            345000,
            112000,
            137000,
            233000,
            185500,
            153000,
            320100,
            160000,
            156650,
            290000,
            180000,
            213150,
            150000,
            167230,
            144800,
            200000,
            116000,
            200000,
            210000,
            150000,
            161800,
            186000,
            100000,
            103000,
            114500,
            218350,
            182800,
            235000,
            91500,
            263000,
            190000,
            210000,
            77621,
            190000,
            140000,
            177500,
            275000,
            132500,
            161500,
            160000,
            283000,
            100000,
            100000,
            235000,
            198000,
            166800,
            224100,
            158000,
            278400,
            306500,
            235200,
            180000,
            170100,
            176000,
            209500,
            170000,
            170000,
            165000,
            187530,
            181950,
            170000,
            173500,
            174000,
            198000,
            133000,
            352400,
            170000,
            163000,
            156000,
            196800,
            160000,
            130000,
            117500,
            187900,
            230000,
            180500,
            152000,
            160000,
            209700,
            125000,
            190000,
            168000,
            160000,
            176000,
            168000,
            176000,
            176700,
            184000,
            221650,
            150000,
            172000,
            183700,
            120000,
            176800,
            182400,
            171900,
            179000,
            180000,
            138000,
            168450,
            197300,
            120100,
            131000,
            125000,
            168000,
            185000,
            97500,
            156900,
            135000,
            246000,
            147930,
            132800,
            163000,
            120000,
            220000,
            213100,
            240000,
            125000,
            135800,
            252000,
            240000,
            167000,
            169000,
            167000,
            130000,
            177000,
            135000,
            165000,
            164000,
            205000,
            200000,
            202500,
            153000,
            142000,
            135000,
            180000,
            192550,
            177000,
            130000,
            180000,
            115000,
            110000,
            157000,
            146000,
            159000,
            239000,
            292000,
            176000,
            92000,
            135000,
            152000,
            162800,
            231000,
            160000,
            190000,
            162000,
            103000,
            179000,
            136500,
            101000,
            179550,
            178000,
            76500,
            84500,
            100000,
            105000,
            110000,
            139500,
            171000,
            146000,
            298000,
            298000,
            298000,
            298000,
            298000,
            298000,
            298000,
            298000,
            298000,
            158100,
            209000,
            110000,
            150000,
            150300,
            292550,
            307500,
            156300,
            145000,
            257150,
            125000,
            147000,
            158500,
            200000,
            158690,
            159000,
            185900,
            179300,
            214000,
            166000,
            119000,
            170000,
            281000,
            187000,
            194500,
            100000,
            170000,
            137000,
            149000,
            149500,
            207000,
            147950,
            214000,
            158000,
            215000,
            147000,
            115000,
            177000,
            145000,
            175000,
            115000,
            219350,
            131000,
            154000,
            153600,
            158750,
            147600,
            173400,
            212000,
            200000,
            99000,
            171000,
            188600,
            95000,
            170000,
            170000,
            143200,
            123550,
            110000,
            100100,
            173000,
            110000,
            92000,
            233000,
            233000,
            233000,
            233000,
            70000,
            208000,
            77500,
            138000,
            98000,
            65000,
            168000,
            168000,
            90000,
            203000,
            100000,
            158000,
            200000,
            115000,
            175500,
            140000,
            107500,
            160000,
            136000,
            204500,
            314000,
            150000,
            80000,
            110000,
            120000,
            120000,
            215000,
            211550,
            175000,
            65000,
            93000,
            220000,
            190000,
            88000,
            115000,
            90000,
            159000,
            113000,
            234700,
            91000,
            211000,
            178000,
            131000,
            130000,
            88000,
            170000,
            174000,
            250000,
            117000,
            116000,
            147000,
            155500,
            76000,
            151000,
            121190,
            75000,
            156000,
            248000,
            100000,
            100000,
            117500,
            136900,
            132600,
            125000,
            217300,
            94300,
            137100,
            80000,
            100000,
            102000,
            105000,
            126000,
            155500,
            160400,
            128000,
            132000,
            231000,
            231000,
            231000,
            231000,
            231000,
            231000,
            231000,
            231000,
            218000,
            97000,
            118500,
            119000,
            127000,
            140000,
            100000,
            85000,
            65000,
            183000,
            78000,
            139500,
            131775,
            169000,
            103000,
            80000,
            106000,
            121000,
            145000,
            118000,
            96000,
            184100,
            250000,
            250000,
            250000,
            250000,
            250000,
            250000,
            250000,
            113000,
            100000,
            126000,
            85000,
            95000,
            104000,
            148500,
            73000,
            116650,
            73000,
            83000,
            152000,
            142000,
            105000,
            215000,
            111350,
            152000,
            110000,
            127000,
            127000,
            127000,
            137000,
            260000,
            160000,
            174000,
            200000,
            180000,
            188000,
            147000,
            136000,
            125000,
            242000,
            427600,
            427600,
            427600,
            427600,
            427600,
            130000,
            190000,
            180592.06,
            123000,
            120900,
            88650,
            81000,
            76000,
            91800,
            62000,
            85000,
            86000,
            107000,
            124900,
            69000,
            118000,
            142000,
            63500,
            154000,
            232500,
            73800,
            161500,
            74650,
            66000,
            242600,
            110000,
            63000,
            116500,
            75000,
            75000,
            75000,
            75000,
            75000,
            148000,
            75300,
            71300,
            116000,
            182000,
            104900,
            228500,
            253500,
            200000,
            188000,
            237000,
            170900,
            185000,
            175000,
            189000,
            130000,
            172000,
            165500,
            190000,
            223000,
            157000,
            140000,
            174000,
            159000,
            180000,
            160000,
            160500,
            145000,
            199900,
            226000,
            205050,
            135000,
            223150,
            132000,
            150000,
            70000,
            148400,
            128000,
            100000,
            182500,
            159000,
            192000,
            155500,
            330000,
            160600,
            207650,
            237000,
            176000,
            167000,
            147000,
            141000,
            188000,
            140000,
            151100,
            215000,
            174000,
            172000,
            180000,
            225000,
            180000,
            122000,
            220000,
            180000,
            161000,
            120000,
            175500,
            204400,
            252000,
            125000,
            170000,
            182500,
            162500,
            203000,
            156500,
            155000,
            180000,
            152000,
            186000,
            375000,
            307000,
            220000,
            182700,
            162000,
            163000,
            226000,
            164000,
            190550,
            105000,
            183000,
            130000,
            171000,
            200000,
            148500,
            172500,
            190000,
            325000,
            147000,
            70000,
            228100,
            90000,
            219000,
            188000,
            126000,
            145000,
            171650,
            162000,
            155000,
            195000,
            148900,
            183000,
            138000,
            134000,
            90000,
            150500,
            300000,
            157930,
            120000,
            172000,
            70000,
            181500,
            145000,
            298000,
            105000,
            115000,
            140000,
            160000,
            204050,
            130000,
            66000,
            260000,
            350000,
            165000,
            170000,
            251500,
            231850,
            156000,
            241000,
            260400,
            204000,
            145000,
            150000,
            181000,
            161000,
            173000,
            260000,
            157000,
            185500,
            205000,
            130000,
            178000,
            147500,
            159000,
            170000,
            145000,
            150000,
            207500,
            233500,
            179000,
            200000,
            141000,
            152000,
            248500,
            158000,
            109500,
            280000,
            110000,
            297000,
            157500,
            148000,
            248000,
            143000,
            157700,
            113500,
            163000,
            232000,
            127000,
            203000,
            148000,
            186000,
            257000,
            215000,
            87000,
            155000,
            103000,
            126000,
            145000,
            161000,
            161000,
            177000,
            142000,
            216000,
            131000,
            151700,
            195000,
            155000,
            157010,
            136000,
            124500,
            200000,
            108000,
            202500,
            140000,
            170000,
            173000,
            162000,
            195000,
            216500,
            150000,
            207500,
            130000,
            175000,
            119000,
            98000,
            158000,
            185000,
            82812.5,
            136000,
            135000,
            135000,
            171400,
            169550,
            178000,
            369200,
            100000,
            111000,
            111000,
            111000,
            251000,
            198000,
            90000,
            90000,
            181700,
            225000,
            189500,
            147000,
            71000,
            71000,
            247000,
            80000,
            147000,
            202000,
            199000,
            101750,
            70500,
            70500,
            166000,
            135000,
            60000,
            346150,
            115000,
            115000,
            156000,
            152000,
            175900,
            357500,
            357500,
            357500,
            357500,
            357500,
            357500,
            357500,
            357500,
            357500,
            357500,
            357500,
            79100,
            145000,
            164180,
            228200,
            182000,
            182400,
            135000,
            180800,
            114000,
            165500,
            198000,
            206000,
            128500,
            178190,
            231940,
            275000,
            135000,
            231800,
            150000,
            295000,
            355000,
            88000,
            169000,
            268000,
            178000,
            180000,
            90000,
            164950,
            224100,
            320000,
            105000,
            127000,
            157100,
            124600,
            290000,
            343700,
            249900,
            196000,
            200000,
            188700,
            121350,
            190200,
            176100,
            169500,
            180500,
            220000,
            226900,
            123000,
            165000,
            160000,
            166500,
            167000,
            118000,
            168100,
            141000,
            250000,
            155000,
            103100,
            158000,
            210000,
            248000,
            159500,
            233500,
            160000,
            155880,
            205000,
            230000,
            227000,
            287275,
            138000,
            174000,
            146500,
            120000,
            190000,
            216975,
            148000,
            129000,
            155000,
            179950,
            110000,
            120000,
            154000,
            218000,
            149800,
            153000,
            80000,
            185000,
            222900,
            187000,
            213975,
            151600,
            152000,
            156000,
            65000,
            181400,
            199000,
            196500
           ]
          },
          {
           "axis": {
            "matches": true
           },
           "label": "surface_reelle_bati",
           "values": [
            80,
            80,
            120,
            90,
            146,
            90,
            120,
            45,
            60,
            90,
            68,
            52,
            78,
            95,
            78,
            60,
            109,
            90,
            42,
            40,
            40,
            80,
            80,
            95,
            169,
            67,
            100,
            67,
            75,
            81,
            115,
            78,
            120,
            70,
            47,
            80,
            100,
            133,
            68,
            133,
            113,
            111,
            99,
            154,
            73,
            71,
            80,
            100,
            53,
            65,
            64,
            92,
            130,
            66,
            70,
            80,
            97,
            80,
            62,
            145,
            81,
            80,
            80,
            33,
            51,
            38,
            79,
            83,
            79,
            174,
            95,
            99,
            98,
            60,
            67,
            92,
            111,
            71,
            238,
            99,
            85,
            95,
            99,
            92,
            111,
            105,
            105,
            78,
            73,
            153,
            65,
            65,
            71,
            115,
            78,
            71,
            70,
            58,
            81,
            61,
            40,
            91,
            80,
            104,
            83,
            89,
            89,
            108,
            80,
            78,
            54,
            80,
            137,
            84,
            81,
            80,
            114,
            85,
            100,
            100,
            85,
            94,
            118,
            90,
            55,
            70,
            58,
            65,
            57,
            92,
            88,
            97,
            79,
            83,
            147,
            177,
            120,
            128,
            83,
            147,
            128,
            50,
            50,
            78,
            120,
            81,
            121,
            117,
            81,
            106,
            80,
            80,
            82,
            82,
            82,
            81,
            81,
            80,
            91,
            77,
            76,
            76,
            45,
            74,
            108,
            78,
            56,
            113,
            93,
            88,
            78,
            74,
            82,
            68,
            108,
            97,
            149,
            120,
            90,
            99,
            95,
            70,
            78,
            94,
            90,
            142,
            73,
            73,
            102,
            70,
            105,
            97,
            107,
            76,
            125,
            64,
            89,
            87,
            86,
            77,
            89,
            70,
            41,
            78,
            70,
            108,
            108,
            66,
            78,
            80,
            97,
            188,
            74,
            102,
            64,
            80,
            83,
            95,
            114,
            250,
            143,
            110,
            76,
            63,
            75,
            63,
            80,
            132,
            78,
            63,
            63,
            109,
            86,
            106,
            120,
            76,
            120,
            80,
            147,
            63,
            62,
            91,
            120,
            63,
            157,
            70,
            86,
            147,
            106,
            102,
            63,
            60,
            83,
            103,
            61,
            105,
            175,
            72,
            60,
            97,
            60,
            65,
            60,
            78,
            81,
            70,
            45,
            114,
            97,
            91,
            80,
            77,
            60,
            78,
            137,
            77,
            81,
            69,
            159,
            88,
            30,
            120,
            63,
            81,
            140,
            68,
            137,
            133,
            87,
            77,
            63,
            81,
            129,
            77,
            77,
            73,
            102,
            78,
            89,
            74,
            74,
            80,
            80,
            139,
            80,
            80,
            80,
            80,
            80,
            80,
            129,
            84,
            100,
            80,
            80,
            80,
            84,
            80,
            80,
            80,
            80,
            80,
            80,
            80,
            80,
            80,
            116,
            80,
            80,
            90,
            80,
            80,
            80,
            98,
            99,
            100,
            80,
            80,
            102,
            80,
            80,
            73,
            80,
            80,
            80,
            80,
            80,
            114,
            80,
            80,
            80,
            80,
            137,
            113,
            97,
            80,
            80,
            87,
            74,
            80,
            80,
            80,
            80,
            82,
            80,
            80,
            80,
            84,
            136,
            117,
            80,
            80,
            150,
            80,
            78,
            80,
            80,
            92,
            80,
            80,
            80,
            80,
            80,
            160,
            127,
            92,
            80,
            80,
            80,
            80,
            133,
            80,
            100,
            90,
            56,
            80,
            93,
            70,
            109,
            90,
            42,
            84,
            96,
            75,
            113,
            76,
            88,
            74,
            12,
            32,
            10,
            17,
            17,
            32,
            22,
            60,
            8,
            100,
            115,
            60,
            61,
            90,
            106,
            85,
            80,
            76,
            101,
            116,
            70,
            67,
            85,
            70,
            65,
            80,
            78,
            89,
            103,
            77,
            88,
            94,
            85,
            68,
            84,
            73,
            78,
            70,
            90,
            96,
            70,
            108,
            124,
            78,
            90,
            78,
            84,
            80,
            91,
            65,
            68,
            78,
            90,
            70,
            71,
            72,
            87,
            100,
            110,
            44,
            60,
            93,
            56,
            32,
            55,
            59,
            42,
            72,
            78,
            120,
            59,
            67,
            216,
            80,
            45,
            50,
            75,
            74,
            45,
            92,
            90,
            90,
            36,
            68,
            55,
            74,
            65,
            110,
            98,
            61,
            90,
            59,
            66,
            88,
            88,
            60,
            121,
            96,
            72,
            68,
            70,
            46,
            107,
            130,
            87,
            55,
            83,
            170,
            125,
            70,
            59,
            58,
            75,
            77,
            106,
            54,
            125,
            110,
            77,
            96,
            48,
            140,
            57,
            153,
            82,
            95,
            57,
            48,
            80,
            74,
            57,
            96,
            69,
            118,
            54,
            26,
            70,
            85,
            80,
            57,
            100,
            60,
            72,
            122,
            59,
            53,
            45,
            83,
            80,
            110,
            45,
            81,
            23,
            26,
            50,
            24,
            50,
            23,
            46,
            46,
            170,
            60,
            49,
            80,
            65,
            73,
            88,
            65,
            56,
            83,
            122,
            90,
            96,
            90,
            45,
            45,
            58,
            75,
            109,
            57,
            75,
            95,
            28,
            28,
            28,
            28,
            60,
            28,
            28,
            87,
            80,
            92,
            64,
            57,
            60,
            75,
            57,
            45,
            34,
            99,
            99,
            99,
            99,
            135,
            99,
            99,
            99,
            99,
            99,
            99,
            99,
            129,
            64,
            64,
            18,
            108,
            74,
            64,
            64,
            77,
            116,
            30,
            41,
            84,
            89,
            89,
            64,
            90,
            105,
            93,
            52,
            29,
            56,
            44,
            64,
            29,
            63,
            72,
            63,
            66,
            50,
            92,
            70,
            48,
            105,
            80,
            63,
            46,
            127,
            90,
            129,
            75,
            63,
            69,
            100,
            30,
            62,
            30,
            46,
            126,
            60,
            82,
            43,
            115,
            74,
            98,
            100,
            80,
            80,
            150,
            68,
            100,
            66,
            80,
            63,
            68,
            64,
            67,
            70,
            66,
            65,
            74,
            80,
            130,
            70,
            83,
            80,
            75,
            128,
            86,
            84,
            79,
            70,
            83,
            60,
            66,
            64,
            63,
            83,
            98,
            63,
            77,
            199,
            70,
            140,
            122,
            66,
            66,
            63,
            63,
            106,
            72,
            83,
            79,
            64,
            76,
            70,
            102,
            90,
            30,
            202,
            80,
            73,
            98,
            80,
            96,
            205,
            79,
            77,
            75,
            79,
            75,
            65,
            79,
            103,
            67,
            80,
            104,
            82,
            75,
            116,
            68,
            71,
            114,
            83,
            90,
            68,
            121,
            66,
            72,
            124,
            100,
            75,
            85,
            194,
            62,
            64,
            168,
            45,
            71,
            83,
            62,
            66,
            60,
            80,
            64,
            110,
            60,
            68,
            70,
            80,
            62,
            80,
            120,
            64,
            80,
            83,
            49,
            83,
            55,
            193,
            110,
            100,
            70,
            90,
            72,
            57,
            37,
            107,
            159,
            68,
            75,
            79,
            106,
            60,
            99,
            80,
            90,
            57,
            78,
            78,
            70,
            78,
            81,
            55,
            78,
            100,
            90,
            86,
            82,
            54,
            67,
            78,
            58,
            82,
            124,
            80,
            105,
            78,
            48,
            78,
            60,
            75,
            139,
            72,
            126,
            68,
            63,
            83,
            75,
            68,
            56,
            81,
            96,
            76,
            120,
            81,
            91,
            131,
            106,
            64,
            81,
            56,
            65,
            60,
            63,
            84,
            53,
            73,
            104,
            81,
            78,
            96,
            102,
            78,
            48,
            59,
            78,
            75,
            72,
            80,
            60,
            120,
            90,
            90,
            168,
            89,
            143,
            56,
            95,
            70,
            94,
            62,
            104,
            115,
            75,
            81,
            70,
            82,
            68,
            82,
            210,
            50,
            46,
            46,
            46,
            146,
            90,
            46,
            46,
            82,
            156,
            100,
            86,
            46,
            46,
            85,
            73,
            115,
            78,
            99,
            70,
            46,
            46,
            88,
            100,
            115,
            210,
            34,
            130,
            88,
            88,
            95,
            22,
            22,
            22,
            22,
            22,
            22,
            22,
            22,
            22,
            22,
            22,
            75,
            100,
            96,
            89,
            90,
            104,
            58,
            100,
            56,
            100,
            157,
            92,
            66,
            86,
            94,
            105,
            82,
            130,
            68,
            108,
            139,
            72,
            90,
            125,
            110,
            90,
            40,
            80,
            133,
            136,
            50,
            78,
            62,
            47,
            105,
            233,
            133,
            92,
            122,
            99,
            60,
            88,
            54,
            120,
            85,
            86,
            107,
            96,
            100,
            74,
            67,
            63,
            60,
            62,
            72,
            118,
            69,
            52,
            75,
            81,
            128,
            81,
            109,
            94,
            43,
            74,
            88,
            116,
            164,
            82,
            67,
            92,
            67,
            119,
            90,
            71,
            81,
            70,
            120,
            55,
            58,
            77,
            113,
            67,
            94,
            42,
            104,
            128,
            86,
            90,
            64,
            74,
            67,
            32,
            130,
            118,
            118
           ]
          },
          {
           "axis": {
            "matches": true
           },
           "label": "surface_terrain",
           "values": [
            319,
            38,
            242,
            110,
            188,
            282,
            340,
            34,
            90,
            283,
            37,
            14,
            33,
            192,
            323,
            143,
            121,
            28,
            31,
            41,
            222,
            222,
            823,
            47,
            179,
            92,
            45,
            162,
            49,
            180,
            82,
            28,
            126,
            689,
            283,
            441,
            348,
            357,
            464,
            663,
            500,
            553,
            526,
            509,
            456,
            486,
            379,
            748,
            404,
            473,
            349,
            551,
            584,
            386,
            751,
            462,
            604,
            240,
            503,
            880,
            447,
            670,
            582,
            461,
            461,
            551,
            200,
            220,
            268,
            163,
            550,
            563,
            465,
            474,
            722,
            493,
            355,
            408,
            519,
            478,
            388,
            270,
            405,
            473,
            473,
            339,
            289,
            300,
            320,
            481,
            391,
            440,
            471,
            749,
            152,
            112,
            99,
            495,
            511,
            333,
            117,
            643,
            38,
            473,
            152,
            759,
            759,
            345,
            118,
            316,
            378,
            345,
            414,
            107,
            511,
            27,
            515,
            648,
            813,
            361,
            135,
            162,
            740,
            398,
            402,
            380,
            495,
            180,
            208,
            323,
            382,
            305,
            408,
            181,
            596,
            613,
            774,
            496,
            503,
            596,
            499,
            513,
            927,
            374,
            724,
            373,
            339,
            655,
            250,
            712,
            201,
            852,
            169,
            186,
            170,
            264,
            204,
            467,
            261,
            260,
            389,
            399,
            341,
            680,
            384,
            462,
            204,
            476,
            521,
            358,
            402,
            668,
            172,
            473,
            424,
            488,
            404,
            555,
            328,
            528,
            237,
            473,
            325,
            187,
            525,
            678,
            626,
            335,
            560,
            488,
            792,
            279,
            203,
            389,
            357,
            416,
            471,
            374,
            498,
            674,
            204,
            522,
            465,
            461,
            494,
            424,
            384,
            711,
            613,
            227,
            406,
            389,
            374,
            434,
            369,
            354,
            97,
            795,
            506,
            566,
            187,
            496,
            583,
            581,
            351,
            395,
            485,
            166,
            453,
            899,
            523,
            481,
            417,
            1105,
            765,
            981,
            1006,
            332,
            126,
            263,
            493,
            518,
            978,
            321,
            771,
            431,
            520,
            177,
            546,
            633,
            408,
            259,
            258,
            196,
            209,
            223,
            219,
            236,
            323,
            315,
            183,
            236,
            183,
            310,
            485,
            553,
            67,
            200,
            324,
            500,
            506,
            212,
            450,
            310,
            527,
            385,
            384,
            838,
            487,
            221,
            221,
            660,
            454,
            412,
            500,
            463,
            500,
            629,
            540,
            212,
            676,
            327,
            444,
            212,
            144,
            438,
            894,
            400,
            409,
            399,
            410,
            201,
            196,
            628,
            209,
            323,
            259,
            207,
            243,
            270,
            207,
            225,
            372,
            256,
            245,
            206,
            695,
            237,
            245,
            270,
            243,
            194,
            199,
            247,
            252,
            247,
            392,
            436,
            240,
            181,
            195,
            207,
            198,
            238,
            197,
            324,
            255,
            245,
            472,
            199,
            404,
            196,
            241,
            244,
            206,
            235,
            202,
            478,
            353,
            243,
            208,
            248,
            499,
            263,
            449,
            241,
            243,
            632,
            531,
            194,
            240,
            243,
            207,
            525,
            198,
            244,
            243,
            356,
            530,
            242,
            240,
            248,
            648,
            243,
            478,
            243,
            245,
            202,
            243,
            190,
            196,
            246,
            241,
            360,
            580,
            541,
            196,
            198,
            246,
            198,
            536,
            242,
            236,
            335,
            178,
            438,
            72,
            65,
            327,
            617,
            22,
            67,
            354,
            132,
            328,
            140,
            286,
            296,
            362,
            362,
            362,
            362,
            362,
            362,
            362,
            362,
            362,
            596,
            695,
            74,
            684,
            376,
            483,
            117,
            278,
            565,
            866,
            640,
            522,
            94,
            405,
            326,
            474,
            366,
            437,
            404,
            380,
            259,
            232,
            851,
            407,
            472,
            479,
            464,
            572,
            327,
            436,
            395,
            381,
            525,
            479,
            97,
            448,
            83,
            250,
            261,
            395,
            375,
            721,
            84,
            366,
            615,
            279,
            385,
            466,
            505,
            163,
            36,
            286,
            569,
            389,
            241,
            241,
            59,
            35,
            292,
            228,
            230,
            95,
            48,
            146,
            44,
            20,
            27,
            52,
            337,
            46,
            228,
            95,
            230,
            479,
            479,
            38,
            337,
            50,
            163,
            426,
            61,
            95,
            59,
            151,
            222,
            39,
            170,
            500,
            58,
            31,
            141,
            18,
            212,
            500,
            53,
            861,
            27,
            133,
            407,
            617,
            58,
            48,
            58,
            860,
            134,
            481,
            43,
            259,
            283,
            59,
            58,
            30,
            727,
            448,
            500,
            71,
            107,
            102,
            46,
            307,
            125,
            119,
            181,
            124,
            234,
            118,
            118,
            75,
            277,
            69,
            90,
            227,
            35,
            90,
            116,
            97,
            95,
            101,
            105,
            657,
            737,
            74,
            107,
            245,
            245,
            245,
            245,
            245,
            245,
            245,
            245,
            200,
            96,
            114,
            64,
            117,
            133,
            127,
            72,
            275,
            369,
            116,
            195,
            181,
            165,
            33,
            86,
            120,
            72,
            109,
            81,
            79,
            493,
            223,
            223,
            223,
            223,
            223,
            223,
            223,
            87,
            113,
            95,
            54,
            124,
            96,
            89,
            119,
            117,
            30,
            751,
            611,
            942,
            482,
            531,
            953,
            751,
            832,
            633,
            880,
            853,
            461,
            351,
            452,
            498,
            105,
            348,
            377,
            499,
            453,
            537,
            608,
            767,
            767,
            767,
            767,
            767,
            450,
            258,
            285,
            102,
            83,
            27,
            44,
            30,
            134,
            21,
            51,
            27,
            28,
            53,
            39,
            80,
            105,
            86,
            135,
            291,
            50,
            197,
            148,
            88,
            556,
            137,
            51,
            96,
            196,
            196,
            196,
            196,
            196,
            103,
            31,
            48,
            103,
            341,
            76,
            374,
            558,
            330,
            298,
            756,
            370,
            306,
            351,
            497,
            549,
            323,
            408,
            447,
            458,
            482,
            390,
            329,
            188,
            572,
            551,
            292,
            381,
            555,
            434,
            733,
            266,
            434,
            326,
            179,
            292,
            455,
            520,
            352,
            291,
            439,
            390,
            336,
            327,
            310,
            576,
            581,
            358,
            430,
            728,
            444,
            360,
            406,
            251,
            465,
            378,
            341,
            553,
            430,
            533,
            273,
            482,
            283,
            462,
            620,
            630,
            427,
            496,
            468,
            342,
            511,
            435,
            262,
            340,
            436,
            315,
            447,
            486,
            395,
            499,
            676,
            280,
            323,
            415,
            341,
            200,
            603,
            357,
            342,
            494,
            660,
            531,
            771,
            598,
            346,
            656,
            410,
            340,
            482,
            232,
            595,
            310,
            390,
            445,
            420,
            312,
            564,
            281,
            396,
            393,
            384,
            636,
            361,
            467,
            776,
            304,
            340,
            276,
            502,
            312,
            245,
            500,
            272,
            300,
            146,
            319,
            413,
            273,
            183,
            303,
            492,
            408,
            612,
            411,
            378,
            481,
            493,
            475,
            322,
            312,
            346,
            428,
            370,
            370,
            542,
            411,
            550,
            262,
            607,
            325,
            423,
            291,
            452,
            354,
            458,
            383,
            292,
            161,
            491,
            334,
            290,
            485,
            145,
            345,
            594,
            404,
            552,
            482,
            519,
            422,
            363,
            411,
            336,
            385,
            852,
            657,
            284,
            430,
            149,
            400,
            383,
            342,
            388,
            436,
            555,
            320,
            316,
            316,
            381,
            379,
            515,
            317,
            429,
            350,
            486,
            491,
            290,
            451,
            591,
            363,
            410,
            333,
            220,
            481,
            420,
            391,
            1022,
            339,
            385,
            626,
            456,
            487,
            448,
            390,
            498,
            534,
            380,
            430,
            141,
            435,
            388,
            344,
            618,
            95,
            95,
            93,
            96,
            454,
            397,
            93,
            90,
            449,
            560,
            491,
            106,
            96,
            95,
            672,
            97,
            117,
            146,
            500,
            90,
            96,
            90,
            374,
            192,
            117,
            688,
            512,
            512,
            255,
            332,
            345,
            500,
            500,
            500,
            500,
            500,
            500,
            500,
            500,
            500,
            500,
            500,
            659,
            491,
            291,
            406,
            399,
            330,
            99,
            343,
            105,
            543,
            363,
            389,
            127,
            265,
            447,
            805,
            37,
            588,
            88,
            594,
            144,
            134,
            558,
            628,
            371,
            706,
            342,
            389,
            623,
            752,
            314,
            202,
            421,
            213,
            508,
            928,
            423,
            245,
            460,
            445,
            132,
            749,
            394,
            584,
            755,
            454,
            490,
            630,
            319,
            311,
            329,
            328,
            326,
            449,
            338,
            714,
            376,
            298,
            331,
            403,
            646,
            339,
            441,
            161,
            295,
            396,
            545,
            661,
            500,
            830,
            365,
            319,
            329,
            428,
            823,
            673,
            392,
            287,
            416,
            361,
            312,
            462,
            502,
            624,
            329,
            529,
            571,
            541,
            424,
            823,
            319,
            459,
            336,
            268,
            401,
            362,
            714
           ]
          },
          {
           "axis": {
            "matches": true
           },
           "label": "nombre_pieces_principales",
           "values": [
            4,
            4,
            3,
            6,
            7,
            5,
            5,
            2,
            3,
            3,
            4,
            3,
            3,
            4,
            4,
            3,
            6,
            6,
            2,
            2,
            2,
            2,
            3,
            4,
            8,
            3,
            5,
            4,
            3,
            4,
            5,
            3,
            4,
            3,
            2,
            5,
            4,
            6,
            4,
            6,
            4,
            6,
            4,
            6,
            4,
            3,
            5,
            4,
            3,
            4,
            4,
            5,
            4,
            3,
            4,
            5,
            5,
            4,
            5,
            8,
            4,
            5,
            4,
            2,
            3,
            3,
            4,
            4,
            4,
            6,
            5,
            5,
            5,
            3,
            3,
            5,
            5,
            4,
            6,
            4,
            4,
            5,
            5,
            5,
            6,
            6,
            6,
            4,
            3,
            4,
            3,
            3,
            4,
            3,
            4,
            4,
            3,
            3,
            5,
            5,
            3,
            5,
            4,
            4,
            4,
            4,
            4,
            5,
            4,
            4,
            3,
            4,
            4,
            3,
            5,
            4,
            4,
            6,
            6,
            4,
            5,
            3,
            6,
            5,
            3,
            3,
            3,
            3,
            2,
            4,
            3,
            4,
            3,
            4,
            5,
            5,
            4,
            5,
            4,
            5,
            5,
            4,
            3,
            4,
            5,
            4,
            5,
            5,
            4,
            4,
            4,
            4,
            4,
            4,
            4,
            4,
            4,
            4,
            4,
            4,
            4,
            3,
            2,
            5,
            5,
            5,
            3,
            5,
            4,
            4,
            5,
            5,
            3,
            4,
            6,
            5,
            6,
            5,
            5,
            4,
            4,
            3,
            5,
            4,
            4,
            6,
            4,
            4,
            3,
            4,
            5,
            3,
            4,
            4,
            4,
            4,
            3,
            4,
            4,
            3,
            5,
            4,
            2,
            5,
            3,
            6,
            5,
            4,
            5,
            5,
            5,
            6,
            5,
            5,
            4,
            4,
            4,
            5,
            3,
            6,
            6,
            5,
            4,
            4,
            4,
            4,
            5,
            3,
            4,
            4,
            4,
            5,
            4,
            6,
            5,
            5,
            5,
            5,
            4,
            4,
            2,
            5,
            4,
            4,
            5,
            4,
            5,
            7,
            4,
            5,
            4,
            3,
            4,
            5,
            3,
            5,
            7,
            4,
            3,
            4,
            1,
            4,
            1,
            4,
            5,
            4,
            3,
            6,
            4,
            4,
            5,
            4,
            3,
            4,
            5,
            4,
            4,
            4,
            6,
            5,
            2,
            4,
            4,
            5,
            7,
            4,
            5,
            4,
            4,
            4,
            4,
            5,
            4,
            4,
            4,
            2,
            4,
            4,
            5,
            4,
            4,
            5,
            5,
            5,
            5,
            5,
            5,
            5,
            5,
            5,
            5,
            4,
            5,
            5,
            5,
            4,
            5,
            5,
            5,
            5,
            5,
            5,
            5,
            5,
            5,
            4,
            4,
            5,
            5,
            4,
            5,
            5,
            5,
            5,
            4,
            4,
            5,
            5,
            5,
            5,
            5,
            5,
            5,
            5,
            5,
            5,
            5,
            5,
            4,
            5,
            4,
            5,
            5,
            6,
            4,
            5,
            5,
            4,
            4,
            5,
            5,
            5,
            5,
            3,
            5,
            5,
            5,
            3,
            7,
            5,
            5,
            5,
            6,
            5,
            4,
            5,
            5,
            5,
            5,
            5,
            5,
            5,
            5,
            6,
            5,
            5,
            5,
            5,
            5,
            5,
            5,
            5,
            5,
            4,
            4,
            5,
            5,
            4,
            5,
            5,
            3,
            4,
            5,
            4,
            4,
            3,
            4,
            4,
            1,
            1,
            1,
            1,
            1,
            2,
            1,
            2,
            1,
            5,
            6,
            4,
            3,
            4,
            4,
            5,
            4,
            4,
            5,
            5,
            4,
            4,
            4,
            4,
            4,
            4,
            4,
            5,
            6,
            4,
            5,
            4,
            4,
            4,
            5,
            3,
            4,
            4,
            4,
            5,
            3,
            6,
            7,
            4,
            4,
            5,
            5,
            5,
            5,
            4,
            3,
            5,
            4,
            4,
            4,
            4,
            5,
            5,
            5,
            3,
            4,
            3,
            2,
            2,
            3,
            4,
            3,
            4,
            3,
            4,
            3,
            3,
            8,
            4,
            2,
            2,
            4,
            4,
            3,
            4,
            5,
            4,
            2,
            3,
            4,
            4,
            2,
            5,
            4,
            3,
            5,
            4,
            3,
            4,
            3,
            4,
            5,
            6,
            3,
            3,
            3,
            3,
            5,
            6,
            3,
            2,
            4,
            6,
            5,
            4,
            5,
            3,
            4,
            3,
            4,
            3,
            4,
            7,
            4,
            6,
            3,
            6,
            4,
            5,
            4,
            4,
            4,
            3,
            3,
            3,
            4,
            5,
            4,
            4,
            4,
            2,
            4,
            4,
            4,
            3,
            5,
            2,
            3,
            5,
            5,
            3,
            4,
            4,
            4,
            4,
            3,
            4,
            1,
            1,
            2,
            1,
            2,
            1,
            3,
            3,
            6,
            4,
            4,
            4,
            4,
            3,
            5,
            3,
            4,
            4,
            5,
            4,
            5,
            6,
            3,
            3,
            3,
            3,
            4,
            3,
            4,
            5,
            1,
            1,
            1,
            1,
            2,
            1,
            1,
            4,
            3,
            5,
            4,
            4,
            4,
            5,
            4,
            3,
            3,
            6,
            6,
            6,
            6,
            7,
            6,
            6,
            6,
            6,
            6,
            6,
            6,
            4,
            4,
            4,
            1,
            5,
            5,
            4,
            4,
            5,
            5,
            1,
            2,
            3,
            3,
            3,
            4,
            4,
            5,
            3,
            2,
            1,
            3,
            3,
            2,
            2,
            3,
            4,
            4,
            3,
            3,
            4,
            4,
            3,
            5,
            3,
            2,
            4,
            7,
            4,
            4,
            3,
            3,
            3,
            6,
            1,
            4,
            1,
            2,
            3,
            4,
            5,
            2,
            5,
            3,
            5,
            7,
            5,
            5,
            6,
            4,
            5,
            3,
            4,
            4,
            4,
            4,
            3,
            3,
            4,
            3,
            4,
            3,
            4,
            4,
            5,
            4,
            4,
            4,
            4,
            5,
            5,
            4,
            4,
            1,
            4,
            4,
            3,
            5,
            5,
            4,
            5,
            5,
            4,
            5,
            7,
            4,
            4,
            4,
            4,
            5,
            4,
            5,
            4,
            4,
            3,
            5,
            4,
            5,
            2,
            8,
            5,
            4,
            4,
            4,
            4,
            8,
            4,
            5,
            4,
            5,
            4,
            3,
            4,
            4,
            3,
            5,
            5,
            4,
            4,
            6,
            4,
            4,
            5,
            5,
            5,
            4,
            7,
            4,
            5,
            6,
            5,
            4,
            4,
            8,
            4,
            2,
            5,
            3,
            3,
            5,
            4,
            4,
            4,
            5,
            3,
            5,
            3,
            4,
            3,
            4,
            3,
            4,
            5,
            3,
            4,
            5,
            3,
            5,
            3,
            5,
            5,
            5,
            4,
            4,
            4,
            3,
            2,
            7,
            5,
            4,
            3,
            4,
            5,
            3,
            6,
            4,
            5,
            2,
            4,
            4,
            4,
            4,
            6,
            3,
            5,
            4,
            4,
            4,
            4,
            3,
            4,
            5,
            3,
            4,
            3,
            5,
            5,
            4,
            2,
            6,
            4,
            4,
            5,
            4,
            6,
            4,
            4,
            3,
            5,
            4,
            3,
            5,
            4,
            4,
            5,
            4,
            4,
            6,
            5,
            3,
            5,
            3,
            4,
            3,
            3,
            4,
            3,
            4,
            4,
            4,
            4,
            5,
            5,
            4,
            2,
            3,
            2,
            5,
            4,
            4,
            4,
            5,
            3,
            4,
            6,
            4,
            5,
            2,
            4,
            4,
            4,
            3,
            4,
            5,
            4,
            4,
            4,
            4,
            4,
            4,
            6,
            3,
            3,
            3,
            3,
            5,
            5,
            3,
            3,
            5,
            6,
            4,
            4,
            3,
            3,
            4,
            2,
            5,
            3,
            6,
            3,
            3,
            3,
            5,
            5,
            5,
            8,
            1,
            4,
            5,
            5,
            5,
            1,
            1,
            1,
            1,
            1,
            1,
            1,
            1,
            1,
            1,
            1,
            5,
            4,
            4,
            4,
            5,
            4,
            3,
            5,
            3,
            3,
            6,
            4,
            4,
            4,
            5,
            4,
            6,
            5,
            4,
            4,
            5,
            3,
            4,
            6,
            6,
            6,
            3,
            3,
            5,
            4,
            3,
            4,
            4,
            3,
            5,
            7,
            6,
            3,
            6,
            4,
            4,
            4,
            3,
            4,
            4,
            5,
            5,
            4,
            2,
            4,
            4,
            4,
            3,
            4,
            4,
            5,
            4,
            3,
            4,
            4,
            5,
            4,
            7,
            4,
            3,
            4,
            4,
            4,
            6,
            3,
            4,
            5,
            4,
            6,
            5,
            3,
            4,
            4,
            4,
            3,
            4,
            4,
            5,
            4,
            5,
            3,
            5,
            5,
            3,
            5,
            4,
            4,
            4,
            2,
            6,
            5,
            5
           ]
          }
         ],
         "hovertemplate": "%{xaxis.title.text}=%{x}<br>%{yaxis.title.text}=%{y}<extra></extra>",
         "legendgroup": "",
         "marker": {
          "color": "#636efa",
          "symbol": "circle"
         },
         "name": "",
         "showlegend": false,
         "type": "splom"
        }
       ],
       "layout": {
        "autosize": true,
        "dragmode": "select",
        "height": 950,
        "legend": {
         "tracegroupgap": 0
        },
        "margin": {
         "t": 60
        },
        "template": {
         "data": {
          "bar": [
           {
            "error_x": {
             "color": "#2a3f5f"
            },
            "error_y": {
             "color": "#2a3f5f"
            },
            "marker": {
             "line": {
              "color": "#E5ECF6",
              "width": 0.5
             },
             "pattern": {
              "fillmode": "overlay",
              "size": 10,
              "solidity": 0.2
             }
            },
            "type": "bar"
           }
          ],
          "barpolar": [
           {
            "marker": {
             "line": {
              "color": "#E5ECF6",
              "width": 0.5
             },
             "pattern": {
              "fillmode": "overlay",
              "size": 10,
              "solidity": 0.2
             }
            },
            "type": "barpolar"
           }
          ],
          "carpet": [
           {
            "aaxis": {
             "endlinecolor": "#2a3f5f",
             "gridcolor": "white",
             "linecolor": "white",
             "minorgridcolor": "white",
             "startlinecolor": "#2a3f5f"
            },
            "baxis": {
             "endlinecolor": "#2a3f5f",
             "gridcolor": "white",
             "linecolor": "white",
             "minorgridcolor": "white",
             "startlinecolor": "#2a3f5f"
            },
            "type": "carpet"
           }
          ],
          "choropleth": [
           {
            "colorbar": {
             "outlinewidth": 0,
             "ticks": ""
            },
            "type": "choropleth"
           }
          ],
          "contour": [
           {
            "colorbar": {
             "outlinewidth": 0,
             "ticks": ""
            },
            "colorscale": [
             [
              0,
              "#0d0887"
             ],
             [
              0.1111111111111111,
              "#46039f"
             ],
             [
              0.2222222222222222,
              "#7201a8"
             ],
             [
              0.3333333333333333,
              "#9c179e"
             ],
             [
              0.4444444444444444,
              "#bd3786"
             ],
             [
              0.5555555555555556,
              "#d8576b"
             ],
             [
              0.6666666666666666,
              "#ed7953"
             ],
             [
              0.7777777777777778,
              "#fb9f3a"
             ],
             [
              0.8888888888888888,
              "#fdca26"
             ],
             [
              1,
              "#f0f921"
             ]
            ],
            "type": "contour"
           }
          ],
          "contourcarpet": [
           {
            "colorbar": {
             "outlinewidth": 0,
             "ticks": ""
            },
            "type": "contourcarpet"
           }
          ],
          "heatmap": [
           {
            "colorbar": {
             "outlinewidth": 0,
             "ticks": ""
            },
            "colorscale": [
             [
              0,
              "#0d0887"
             ],
             [
              0.1111111111111111,
              "#46039f"
             ],
             [
              0.2222222222222222,
              "#7201a8"
             ],
             [
              0.3333333333333333,
              "#9c179e"
             ],
             [
              0.4444444444444444,
              "#bd3786"
             ],
             [
              0.5555555555555556,
              "#d8576b"
             ],
             [
              0.6666666666666666,
              "#ed7953"
             ],
             [
              0.7777777777777778,
              "#fb9f3a"
             ],
             [
              0.8888888888888888,
              "#fdca26"
             ],
             [
              1,
              "#f0f921"
             ]
            ],
            "type": "heatmap"
           }
          ],
          "heatmapgl": [
           {
            "colorbar": {
             "outlinewidth": 0,
             "ticks": ""
            },
            "colorscale": [
             [
              0,
              "#0d0887"
             ],
             [
              0.1111111111111111,
              "#46039f"
             ],
             [
              0.2222222222222222,
              "#7201a8"
             ],
             [
              0.3333333333333333,
              "#9c179e"
             ],
             [
              0.4444444444444444,
              "#bd3786"
             ],
             [
              0.5555555555555556,
              "#d8576b"
             ],
             [
              0.6666666666666666,
              "#ed7953"
             ],
             [
              0.7777777777777778,
              "#fb9f3a"
             ],
             [
              0.8888888888888888,
              "#fdca26"
             ],
             [
              1,
              "#f0f921"
             ]
            ],
            "type": "heatmapgl"
           }
          ],
          "histogram": [
           {
            "marker": {
             "pattern": {
              "fillmode": "overlay",
              "size": 10,
              "solidity": 0.2
             }
            },
            "type": "histogram"
           }
          ],
          "histogram2d": [
           {
            "colorbar": {
             "outlinewidth": 0,
             "ticks": ""
            },
            "colorscale": [
             [
              0,
              "#0d0887"
             ],
             [
              0.1111111111111111,
              "#46039f"
             ],
             [
              0.2222222222222222,
              "#7201a8"
             ],
             [
              0.3333333333333333,
              "#9c179e"
             ],
             [
              0.4444444444444444,
              "#bd3786"
             ],
             [
              0.5555555555555556,
              "#d8576b"
             ],
             [
              0.6666666666666666,
              "#ed7953"
             ],
             [
              0.7777777777777778,
              "#fb9f3a"
             ],
             [
              0.8888888888888888,
              "#fdca26"
             ],
             [
              1,
              "#f0f921"
             ]
            ],
            "type": "histogram2d"
           }
          ],
          "histogram2dcontour": [
           {
            "colorbar": {
             "outlinewidth": 0,
             "ticks": ""
            },
            "colorscale": [
             [
              0,
              "#0d0887"
             ],
             [
              0.1111111111111111,
              "#46039f"
             ],
             [
              0.2222222222222222,
              "#7201a8"
             ],
             [
              0.3333333333333333,
              "#9c179e"
             ],
             [
              0.4444444444444444,
              "#bd3786"
             ],
             [
              0.5555555555555556,
              "#d8576b"
             ],
             [
              0.6666666666666666,
              "#ed7953"
             ],
             [
              0.7777777777777778,
              "#fb9f3a"
             ],
             [
              0.8888888888888888,
              "#fdca26"
             ],
             [
              1,
              "#f0f921"
             ]
            ],
            "type": "histogram2dcontour"
           }
          ],
          "mesh3d": [
           {
            "colorbar": {
             "outlinewidth": 0,
             "ticks": ""
            },
            "type": "mesh3d"
           }
          ],
          "parcoords": [
           {
            "line": {
             "colorbar": {
              "outlinewidth": 0,
              "ticks": ""
             }
            },
            "type": "parcoords"
           }
          ],
          "pie": [
           {
            "automargin": true,
            "type": "pie"
           }
          ],
          "scatter": [
           {
            "marker": {
             "colorbar": {
              "outlinewidth": 0,
              "ticks": ""
             }
            },
            "type": "scatter"
           }
          ],
          "scatter3d": [
           {
            "line": {
             "colorbar": {
              "outlinewidth": 0,
              "ticks": ""
             }
            },
            "marker": {
             "colorbar": {
              "outlinewidth": 0,
              "ticks": ""
             }
            },
            "type": "scatter3d"
           }
          ],
          "scattercarpet": [
           {
            "marker": {
             "colorbar": {
              "outlinewidth": 0,
              "ticks": ""
             }
            },
            "type": "scattercarpet"
           }
          ],
          "scattergeo": [
           {
            "marker": {
             "colorbar": {
              "outlinewidth": 0,
              "ticks": ""
             }
            },
            "type": "scattergeo"
           }
          ],
          "scattergl": [
           {
            "marker": {
             "colorbar": {
              "outlinewidth": 0,
              "ticks": ""
             }
            },
            "type": "scattergl"
           }
          ],
          "scattermapbox": [
           {
            "marker": {
             "colorbar": {
              "outlinewidth": 0,
              "ticks": ""
             }
            },
            "type": "scattermapbox"
           }
          ],
          "scatterpolar": [
           {
            "marker": {
             "colorbar": {
              "outlinewidth": 0,
              "ticks": ""
             }
            },
            "type": "scatterpolar"
           }
          ],
          "scatterpolargl": [
           {
            "marker": {
             "colorbar": {
              "outlinewidth": 0,
              "ticks": ""
             }
            },
            "type": "scatterpolargl"
           }
          ],
          "scatterternary": [
           {
            "marker": {
             "colorbar": {
              "outlinewidth": 0,
              "ticks": ""
             }
            },
            "type": "scatterternary"
           }
          ],
          "surface": [
           {
            "colorbar": {
             "outlinewidth": 0,
             "ticks": ""
            },
            "colorscale": [
             [
              0,
              "#0d0887"
             ],
             [
              0.1111111111111111,
              "#46039f"
             ],
             [
              0.2222222222222222,
              "#7201a8"
             ],
             [
              0.3333333333333333,
              "#9c179e"
             ],
             [
              0.4444444444444444,
              "#bd3786"
             ],
             [
              0.5555555555555556,
              "#d8576b"
             ],
             [
              0.6666666666666666,
              "#ed7953"
             ],
             [
              0.7777777777777778,
              "#fb9f3a"
             ],
             [
              0.8888888888888888,
              "#fdca26"
             ],
             [
              1,
              "#f0f921"
             ]
            ],
            "type": "surface"
           }
          ],
          "table": [
           {
            "cells": {
             "fill": {
              "color": "#EBF0F8"
             },
             "line": {
              "color": "white"
             }
            },
            "header": {
             "fill": {
              "color": "#C8D4E3"
             },
             "line": {
              "color": "white"
             }
            },
            "type": "table"
           }
          ]
         },
         "layout": {
          "annotationdefaults": {
           "arrowcolor": "#2a3f5f",
           "arrowhead": 0,
           "arrowwidth": 1
          },
          "autotypenumbers": "strict",
          "coloraxis": {
           "colorbar": {
            "outlinewidth": 0,
            "ticks": ""
           }
          },
          "colorscale": {
           "diverging": [
            [
             0,
             "#8e0152"
            ],
            [
             0.1,
             "#c51b7d"
            ],
            [
             0.2,
             "#de77ae"
            ],
            [
             0.3,
             "#f1b6da"
            ],
            [
             0.4,
             "#fde0ef"
            ],
            [
             0.5,
             "#f7f7f7"
            ],
            [
             0.6,
             "#e6f5d0"
            ],
            [
             0.7,
             "#b8e186"
            ],
            [
             0.8,
             "#7fbc41"
            ],
            [
             0.9,
             "#4d9221"
            ],
            [
             1,
             "#276419"
            ]
           ],
           "sequential": [
            [
             0,
             "#0d0887"
            ],
            [
             0.1111111111111111,
             "#46039f"
            ],
            [
             0.2222222222222222,
             "#7201a8"
            ],
            [
             0.3333333333333333,
             "#9c179e"
            ],
            [
             0.4444444444444444,
             "#bd3786"
            ],
            [
             0.5555555555555556,
             "#d8576b"
            ],
            [
             0.6666666666666666,
             "#ed7953"
            ],
            [
             0.7777777777777778,
             "#fb9f3a"
            ],
            [
             0.8888888888888888,
             "#fdca26"
            ],
            [
             1,
             "#f0f921"
            ]
           ],
           "sequentialminus": [
            [
             0,
             "#0d0887"
            ],
            [
             0.1111111111111111,
             "#46039f"
            ],
            [
             0.2222222222222222,
             "#7201a8"
            ],
            [
             0.3333333333333333,
             "#9c179e"
            ],
            [
             0.4444444444444444,
             "#bd3786"
            ],
            [
             0.5555555555555556,
             "#d8576b"
            ],
            [
             0.6666666666666666,
             "#ed7953"
            ],
            [
             0.7777777777777778,
             "#fb9f3a"
            ],
            [
             0.8888888888888888,
             "#fdca26"
            ],
            [
             1,
             "#f0f921"
            ]
           ]
          },
          "colorway": [
           "#636efa",
           "#EF553B",
           "#00cc96",
           "#ab63fa",
           "#FFA15A",
           "#19d3f3",
           "#FF6692",
           "#B6E880",
           "#FF97FF",
           "#FECB52"
          ],
          "font": {
           "color": "#2a3f5f"
          },
          "geo": {
           "bgcolor": "white",
           "lakecolor": "white",
           "landcolor": "#E5ECF6",
           "showlakes": true,
           "showland": true,
           "subunitcolor": "white"
          },
          "hoverlabel": {
           "align": "left"
          },
          "hovermode": "closest",
          "mapbox": {
           "style": "light"
          },
          "paper_bgcolor": "white",
          "plot_bgcolor": "#E5ECF6",
          "polar": {
           "angularaxis": {
            "gridcolor": "white",
            "linecolor": "white",
            "ticks": ""
           },
           "bgcolor": "#E5ECF6",
           "radialaxis": {
            "gridcolor": "white",
            "linecolor": "white",
            "ticks": ""
           }
          },
          "scene": {
           "xaxis": {
            "backgroundcolor": "#E5ECF6",
            "gridcolor": "white",
            "gridwidth": 2,
            "linecolor": "white",
            "showbackground": true,
            "ticks": "",
            "zerolinecolor": "white"
           },
           "yaxis": {
            "backgroundcolor": "#E5ECF6",
            "gridcolor": "white",
            "gridwidth": 2,
            "linecolor": "white",
            "showbackground": true,
            "ticks": "",
            "zerolinecolor": "white"
           },
           "zaxis": {
            "backgroundcolor": "#E5ECF6",
            "gridcolor": "white",
            "gridwidth": 2,
            "linecolor": "white",
            "showbackground": true,
            "ticks": "",
            "zerolinecolor": "white"
           }
          },
          "shapedefaults": {
           "line": {
            "color": "#2a3f5f"
           }
          },
          "ternary": {
           "aaxis": {
            "gridcolor": "white",
            "linecolor": "white",
            "ticks": ""
           },
           "baxis": {
            "gridcolor": "white",
            "linecolor": "white",
            "ticks": ""
           },
           "bgcolor": "#E5ECF6",
           "caxis": {
            "gridcolor": "white",
            "linecolor": "white",
            "ticks": ""
           }
          },
          "title": {
           "x": 0.05
          },
          "xaxis": {
           "automargin": true,
           "gridcolor": "white",
           "linecolor": "white",
           "ticks": "",
           "title": {
            "standoff": 15
           },
           "zerolinecolor": "white",
           "zerolinewidth": 2
          },
          "yaxis": {
           "automargin": true,
           "gridcolor": "white",
           "linecolor": "white",
           "ticks": "",
           "title": {
            "standoff": 15
           },
           "zerolinecolor": "white",
           "zerolinewidth": 2
          }
         }
        },
        "width": 950
       }
      }
     },
     "metadata": {},
     "output_type": "display_data"
    }
   ],
   "source": [
    "ds = pd.read_pickle('transaction_ser.pkl')\n",
    "\n",
    "#supprimer les colonnes inutiles (garder valeur foncière, surface, terrain, pièces)\n",
    "ds = ds[['valeur_fonciere', 'surface_reelle_bati', 'surface_terrain', 'nombre_pieces_principales']]\n",
    "\n",
    "#uniquement les types 'sols'\n",
    "ds = ds[ds['nature_culture'] == 'sols']\n",
    "#supprimer les lignes avec valeur foncière qui n'est pas entre 500k et 60k\n",
    "ds = ds[ds['valeur_fonciere'] <= 500000]\n",
    "ds = ds[ds['valeur_fonciere'] >= 60000]\n",
    "#supprimer les lignes avec surface terrain > 25000\n",
    "ds = ds[ds['surface_terrain'] < 1500]\n",
    "\n",
    "#supprimer les lignes avec surface bati > 1000\n",
    "ds = ds[ds['surface_reelle_bati'] < 1000]\n",
    "\n",
    "#supprimer les lignes avec nombre de pièces > 10\n",
    "ds = ds[ds['nombre_pieces_principales'] < 10]\n",
    "ds = ds[ds['nombre_pieces_principales'] != 0]\n",
    "\n",
    "\n",
    "#plotly matrix plot\n",
    "def matrix_plot():\n",
    "    fig = px.scatter_matrix(ds, dimensions=['valeur_fonciere', 'surface_reelle_bati', 'surface_terrain', 'nombre_pieces_principales'])\n",
    "    \n",
    "\n",
    "    #carre 1000x1000\n",
    "    fig.update_layout(\n",
    "        autosize=True,\n",
    "        width=950,\n",
    "        height=950,\n",
    "    )\n",
    "\n",
    "    fig.show()\n",
    "\n",
    "matrix_plot()\n"
   ]
  },
  {
   "attachments": {},
   "cell_type": "markdown",
   "metadata": {},
   "source": []
  },
  {
   "cell_type": "code",
   "execution_count": 20,
   "metadata": {},
   "outputs": [
    {
     "data": {
      "text/html": [
       "<div>\n",
       "<style scoped>\n",
       "    .dataframe tbody tr th:only-of-type {\n",
       "        vertical-align: middle;\n",
       "    }\n",
       "\n",
       "    .dataframe tbody tr th {\n",
       "        vertical-align: top;\n",
       "    }\n",
       "\n",
       "    .dataframe thead th {\n",
       "        text-align: right;\n",
       "    }\n",
       "</style>\n",
       "<table border=\"1\" class=\"dataframe\">\n",
       "  <thead>\n",
       "    <tr style=\"text-align: right;\">\n",
       "      <th></th>\n",
       "      <th>id_mutation</th>\n",
       "      <th>date_mutation</th>\n",
       "      <th>numero_disposition</th>\n",
       "      <th>nature_mutation</th>\n",
       "      <th>valeur_fonciere</th>\n",
       "      <th>adresse_numero</th>\n",
       "      <th>adresse_suffixe</th>\n",
       "      <th>adresse_nom_voie</th>\n",
       "      <th>adresse_code_voie</th>\n",
       "      <th>code_postal</th>\n",
       "      <th>...</th>\n",
       "      <th>surface_reelle_bati</th>\n",
       "      <th>nombre_pieces_principales</th>\n",
       "      <th>code_nature_culture</th>\n",
       "      <th>nature_culture</th>\n",
       "      <th>code_nature_culture_speciale</th>\n",
       "      <th>nature_culture_speciale</th>\n",
       "      <th>surface_terrain</th>\n",
       "      <th>longitude</th>\n",
       "      <th>latitude</th>\n",
       "      <th>section_prefixe</th>\n",
       "    </tr>\n",
       "  </thead>\n",
       "  <tbody>\n",
       "    <tr>\n",
       "      <th>0</th>\n",
       "      <td>2022-360376</td>\n",
       "      <td>2022-05-16</td>\n",
       "      <td>1</td>\n",
       "      <td>Vente</td>\n",
       "      <td>170000.0</td>\n",
       "      <td>6.0</td>\n",
       "      <td>None</td>\n",
       "      <td>PL DE L EGLISE</td>\n",
       "      <td>730</td>\n",
       "      <td>76800</td>\n",
       "      <td>...</td>\n",
       "      <td>80.0</td>\n",
       "      <td>4.0</td>\n",
       "      <td>S</td>\n",
       "      <td>sols</td>\n",
       "      <td>None</td>\n",
       "      <td>None</td>\n",
       "      <td>319.0</td>\n",
       "      <td>1.106595</td>\n",
       "      <td>49.382037</td>\n",
       "      <td>000AZ</td>\n",
       "    </tr>\n",
       "    <tr>\n",
       "      <th>1</th>\n",
       "      <td>2022-360376</td>\n",
       "      <td>2022-05-16</td>\n",
       "      <td>1</td>\n",
       "      <td>Vente</td>\n",
       "      <td>170000.0</td>\n",
       "      <td>37.0</td>\n",
       "      <td>None</td>\n",
       "      <td>RUE GAMBETTA</td>\n",
       "      <td>974</td>\n",
       "      <td>76800</td>\n",
       "      <td>...</td>\n",
       "      <td>NaN</td>\n",
       "      <td>NaN</td>\n",
       "      <td>S</td>\n",
       "      <td>sols</td>\n",
       "      <td>None</td>\n",
       "      <td>None</td>\n",
       "      <td>234.0</td>\n",
       "      <td>1.106238</td>\n",
       "      <td>49.382039</td>\n",
       "      <td>000AZ</td>\n",
       "    </tr>\n",
       "    <tr>\n",
       "      <th>2</th>\n",
       "      <td>2021-1184802</td>\n",
       "      <td>2021-11-10</td>\n",
       "      <td>1</td>\n",
       "      <td>Vente</td>\n",
       "      <td>107000.0</td>\n",
       "      <td>39.0</td>\n",
       "      <td>None</td>\n",
       "      <td>RUE GAMBETTA</td>\n",
       "      <td>974</td>\n",
       "      <td>76800</td>\n",
       "      <td>...</td>\n",
       "      <td>80.0</td>\n",
       "      <td>4.0</td>\n",
       "      <td>S</td>\n",
       "      <td>sols</td>\n",
       "      <td>None</td>\n",
       "      <td>None</td>\n",
       "      <td>38.0</td>\n",
       "      <td>1.106127</td>\n",
       "      <td>49.382122</td>\n",
       "      <td>000AZ</td>\n",
       "    </tr>\n",
       "    <tr>\n",
       "      <th>3</th>\n",
       "      <td>2021-1184802</td>\n",
       "      <td>2021-11-10</td>\n",
       "      <td>1</td>\n",
       "      <td>Vente</td>\n",
       "      <td>107000.0</td>\n",
       "      <td>39.0</td>\n",
       "      <td>None</td>\n",
       "      <td>RUE GAMBETTA</td>\n",
       "      <td>974</td>\n",
       "      <td>76800</td>\n",
       "      <td>...</td>\n",
       "      <td>NaN</td>\n",
       "      <td>0.0</td>\n",
       "      <td>S</td>\n",
       "      <td>sols</td>\n",
       "      <td>None</td>\n",
       "      <td>None</td>\n",
       "      <td>38.0</td>\n",
       "      <td>1.106127</td>\n",
       "      <td>49.382122</td>\n",
       "      <td>000AZ</td>\n",
       "    </tr>\n",
       "    <tr>\n",
       "      <th>4</th>\n",
       "      <td>2021-1184802</td>\n",
       "      <td>2021-11-10</td>\n",
       "      <td>1</td>\n",
       "      <td>Vente</td>\n",
       "      <td>107000.0</td>\n",
       "      <td>37.0</td>\n",
       "      <td>None</td>\n",
       "      <td>RUE GAMBETTA</td>\n",
       "      <td>974</td>\n",
       "      <td>76800</td>\n",
       "      <td>...</td>\n",
       "      <td>NaN</td>\n",
       "      <td>NaN</td>\n",
       "      <td>S</td>\n",
       "      <td>sols</td>\n",
       "      <td>None</td>\n",
       "      <td>None</td>\n",
       "      <td>234.0</td>\n",
       "      <td>1.106238</td>\n",
       "      <td>49.382039</td>\n",
       "      <td>000AZ</td>\n",
       "    </tr>\n",
       "    <tr>\n",
       "      <th>...</th>\n",
       "      <td>...</td>\n",
       "      <td>...</td>\n",
       "      <td>...</td>\n",
       "      <td>...</td>\n",
       "      <td>...</td>\n",
       "      <td>...</td>\n",
       "      <td>...</td>\n",
       "      <td>...</td>\n",
       "      <td>...</td>\n",
       "      <td>...</td>\n",
       "      <td>...</td>\n",
       "      <td>...</td>\n",
       "      <td>...</td>\n",
       "      <td>...</td>\n",
       "      <td>...</td>\n",
       "      <td>...</td>\n",
       "      <td>...</td>\n",
       "      <td>...</td>\n",
       "      <td>...</td>\n",
       "      <td>...</td>\n",
       "      <td>...</td>\n",
       "    </tr>\n",
       "    <tr>\n",
       "      <th>2967</th>\n",
       "      <td>2017-543786</td>\n",
       "      <td>2017-08-28</td>\n",
       "      <td>1</td>\n",
       "      <td>Vente</td>\n",
       "      <td>65000.0</td>\n",
       "      <td>4.0</td>\n",
       "      <td>None</td>\n",
       "      <td>RUE DE FORT DE VAUX</td>\n",
       "      <td>910</td>\n",
       "      <td>76800</td>\n",
       "      <td>...</td>\n",
       "      <td>32.0</td>\n",
       "      <td>2.0</td>\n",
       "      <td>S</td>\n",
       "      <td>sols</td>\n",
       "      <td>None</td>\n",
       "      <td>None</td>\n",
       "      <td>268.0</td>\n",
       "      <td>1.107607</td>\n",
       "      <td>49.374767</td>\n",
       "      <td>000AT</td>\n",
       "    </tr>\n",
       "    <tr>\n",
       "      <th>2968</th>\n",
       "      <td>2017-543907</td>\n",
       "      <td>2017-08-25</td>\n",
       "      <td>1</td>\n",
       "      <td>Vente</td>\n",
       "      <td>181400.0</td>\n",
       "      <td>19.0</td>\n",
       "      <td>None</td>\n",
       "      <td>RUE DE LORRAINE</td>\n",
       "      <td>1510</td>\n",
       "      <td>76800</td>\n",
       "      <td>...</td>\n",
       "      <td>130.0</td>\n",
       "      <td>6.0</td>\n",
       "      <td>S</td>\n",
       "      <td>sols</td>\n",
       "      <td>None</td>\n",
       "      <td>None</td>\n",
       "      <td>401.0</td>\n",
       "      <td>1.100599</td>\n",
       "      <td>49.373885</td>\n",
       "      <td>000AT</td>\n",
       "    </tr>\n",
       "    <tr>\n",
       "      <th>2969</th>\n",
       "      <td>2017-543907</td>\n",
       "      <td>2017-08-25</td>\n",
       "      <td>1</td>\n",
       "      <td>Vente</td>\n",
       "      <td>181400.0</td>\n",
       "      <td>19.0</td>\n",
       "      <td>None</td>\n",
       "      <td>RUE DE LORRAINE</td>\n",
       "      <td>1510</td>\n",
       "      <td>76800</td>\n",
       "      <td>...</td>\n",
       "      <td>NaN</td>\n",
       "      <td>NaN</td>\n",
       "      <td>J</td>\n",
       "      <td>jardins</td>\n",
       "      <td>POTAG</td>\n",
       "      <td>Jardin potager</td>\n",
       "      <td>89.0</td>\n",
       "      <td>1.100471</td>\n",
       "      <td>49.373929</td>\n",
       "      <td>000AT</td>\n",
       "    </tr>\n",
       "    <tr>\n",
       "      <th>2970</th>\n",
       "      <td>2017-543682</td>\n",
       "      <td>2017-08-21</td>\n",
       "      <td>1</td>\n",
       "      <td>Vente</td>\n",
       "      <td>199000.0</td>\n",
       "      <td>29.0</td>\n",
       "      <td>None</td>\n",
       "      <td>CHE DU BON CLOS</td>\n",
       "      <td>300</td>\n",
       "      <td>76800</td>\n",
       "      <td>...</td>\n",
       "      <td>118.0</td>\n",
       "      <td>5.0</td>\n",
       "      <td>S</td>\n",
       "      <td>sols</td>\n",
       "      <td>None</td>\n",
       "      <td>None</td>\n",
       "      <td>362.0</td>\n",
       "      <td>1.100397</td>\n",
       "      <td>49.374971</td>\n",
       "      <td>000AT</td>\n",
       "    </tr>\n",
       "    <tr>\n",
       "      <th>2971</th>\n",
       "      <td>2017-542967</td>\n",
       "      <td>2017-07-10</td>\n",
       "      <td>1</td>\n",
       "      <td>Vente</td>\n",
       "      <td>196500.0</td>\n",
       "      <td>2.0</td>\n",
       "      <td>None</td>\n",
       "      <td>RUE EMILE ZOLA</td>\n",
       "      <td>750</td>\n",
       "      <td>76800</td>\n",
       "      <td>...</td>\n",
       "      <td>118.0</td>\n",
       "      <td>5.0</td>\n",
       "      <td>S</td>\n",
       "      <td>sols</td>\n",
       "      <td>None</td>\n",
       "      <td>None</td>\n",
       "      <td>714.0</td>\n",
       "      <td>1.100223</td>\n",
       "      <td>49.373475</td>\n",
       "      <td>000AT</td>\n",
       "    </tr>\n",
       "  </tbody>\n",
       "</table>\n",
       "<p>2972 rows × 41 columns</p>\n",
       "</div>"
      ],
      "text/plain": [
       "       id_mutation date_mutation  numero_disposition nature_mutation  \\\n",
       "0      2022-360376    2022-05-16                   1           Vente   \n",
       "1      2022-360376    2022-05-16                   1           Vente   \n",
       "2     2021-1184802    2021-11-10                   1           Vente   \n",
       "3     2021-1184802    2021-11-10                   1           Vente   \n",
       "4     2021-1184802    2021-11-10                   1           Vente   \n",
       "...            ...           ...                 ...             ...   \n",
       "2967   2017-543786    2017-08-28                   1           Vente   \n",
       "2968   2017-543907    2017-08-25                   1           Vente   \n",
       "2969   2017-543907    2017-08-25                   1           Vente   \n",
       "2970   2017-543682    2017-08-21                   1           Vente   \n",
       "2971   2017-542967    2017-07-10                   1           Vente   \n",
       "\n",
       "      valeur_fonciere  adresse_numero adresse_suffixe     adresse_nom_voie  \\\n",
       "0            170000.0             6.0            None       PL DE L EGLISE   \n",
       "1            170000.0            37.0            None         RUE GAMBETTA   \n",
       "2            107000.0            39.0            None         RUE GAMBETTA   \n",
       "3            107000.0            39.0            None         RUE GAMBETTA   \n",
       "4            107000.0            37.0            None         RUE GAMBETTA   \n",
       "...               ...             ...             ...                  ...   \n",
       "2967          65000.0             4.0            None  RUE DE FORT DE VAUX   \n",
       "2968         181400.0            19.0            None      RUE DE LORRAINE   \n",
       "2969         181400.0            19.0            None      RUE DE LORRAINE   \n",
       "2970         199000.0            29.0            None      CHE DU BON CLOS   \n",
       "2971         196500.0             2.0            None       RUE EMILE ZOLA   \n",
       "\n",
       "     adresse_code_voie code_postal  ...  surface_reelle_bati  \\\n",
       "0                  730       76800  ...                 80.0   \n",
       "1                  974       76800  ...                  NaN   \n",
       "2                  974       76800  ...                 80.0   \n",
       "3                  974       76800  ...                  NaN   \n",
       "4                  974       76800  ...                  NaN   \n",
       "...                ...         ...  ...                  ...   \n",
       "2967               910       76800  ...                 32.0   \n",
       "2968              1510       76800  ...                130.0   \n",
       "2969              1510       76800  ...                  NaN   \n",
       "2970               300       76800  ...                118.0   \n",
       "2971               750       76800  ...                118.0   \n",
       "\n",
       "     nombre_pieces_principales  code_nature_culture nature_culture  \\\n",
       "0                          4.0                    S           sols   \n",
       "1                          NaN                    S           sols   \n",
       "2                          4.0                    S           sols   \n",
       "3                          0.0                    S           sols   \n",
       "4                          NaN                    S           sols   \n",
       "...                        ...                  ...            ...   \n",
       "2967                       2.0                    S           sols   \n",
       "2968                       6.0                    S           sols   \n",
       "2969                       NaN                    J        jardins   \n",
       "2970                       5.0                    S           sols   \n",
       "2971                       5.0                    S           sols   \n",
       "\n",
       "     code_nature_culture_speciale nature_culture_speciale surface_terrain  \\\n",
       "0                            None                    None           319.0   \n",
       "1                            None                    None           234.0   \n",
       "2                            None                    None            38.0   \n",
       "3                            None                    None            38.0   \n",
       "4                            None                    None           234.0   \n",
       "...                           ...                     ...             ...   \n",
       "2967                         None                    None           268.0   \n",
       "2968                         None                    None           401.0   \n",
       "2969                        POTAG          Jardin potager            89.0   \n",
       "2970                         None                    None           362.0   \n",
       "2971                         None                    None           714.0   \n",
       "\n",
       "     longitude   latitude section_prefixe  \n",
       "0     1.106595  49.382037           000AZ  \n",
       "1     1.106238  49.382039           000AZ  \n",
       "2     1.106127  49.382122           000AZ  \n",
       "3     1.106127  49.382122           000AZ  \n",
       "4     1.106238  49.382039           000AZ  \n",
       "...        ...        ...             ...  \n",
       "2967  1.107607  49.374767           000AT  \n",
       "2968  1.100599  49.373885           000AT  \n",
       "2969  1.100471  49.373929           000AT  \n",
       "2970  1.100397  49.374971           000AT  \n",
       "2971  1.100223  49.373475           000AT  \n",
       "\n",
       "[2972 rows x 41 columns]"
      ]
     },
     "execution_count": 20,
     "metadata": {},
     "output_type": "execute_result"
    }
   ],
   "source": [
    "ds = pd.read_pickle('transaction_ser.pkl')\n",
    "ds"
   ]
  },
  {
   "cell_type": "code",
   "execution_count": 29,
   "metadata": {},
   "outputs": [
    {
     "data": {
      "text/html": [
       "<div>\n",
       "<style scoped>\n",
       "    .dataframe tbody tr th:only-of-type {\n",
       "        vertical-align: middle;\n",
       "    }\n",
       "\n",
       "    .dataframe tbody tr th {\n",
       "        vertical-align: top;\n",
       "    }\n",
       "\n",
       "    .dataframe thead th {\n",
       "        text-align: right;\n",
       "    }\n",
       "</style>\n",
       "<table border=\"1\" class=\"dataframe\">\n",
       "  <thead>\n",
       "    <tr style=\"text-align: right;\">\n",
       "      <th></th>\n",
       "      <th>id_mutation</th>\n",
       "      <th>date_mutation</th>\n",
       "      <th>numero_disposition</th>\n",
       "      <th>nature_mutation</th>\n",
       "      <th>valeur_fonciere</th>\n",
       "      <th>adresse_numero</th>\n",
       "      <th>adresse_suffixe</th>\n",
       "      <th>adresse_nom_voie</th>\n",
       "      <th>adresse_code_voie</th>\n",
       "      <th>code_postal</th>\n",
       "      <th>...</th>\n",
       "      <th>surface_reelle_bati</th>\n",
       "      <th>nombre_pieces_principales</th>\n",
       "      <th>code_nature_culture</th>\n",
       "      <th>nature_culture</th>\n",
       "      <th>code_nature_culture_speciale</th>\n",
       "      <th>nature_culture_speciale</th>\n",
       "      <th>surface_terrain</th>\n",
       "      <th>longitude</th>\n",
       "      <th>latitude</th>\n",
       "      <th>section_prefixe</th>\n",
       "    </tr>\n",
       "  </thead>\n",
       "  <tbody>\n",
       "    <tr>\n",
       "      <th>1431</th>\n",
       "      <td>2018-1035048</td>\n",
       "      <td>2018-10-04</td>\n",
       "      <td>1</td>\n",
       "      <td>Vente</td>\n",
       "      <td>215000.0</td>\n",
       "      <td>33.0</td>\n",
       "      <td>None</td>\n",
       "      <td>RUE DES FUSILLES</td>\n",
       "      <td>940</td>\n",
       "      <td>76800</td>\n",
       "      <td>...</td>\n",
       "      <td>78.0</td>\n",
       "      <td>4.0</td>\n",
       "      <td>S</td>\n",
       "      <td>sols</td>\n",
       "      <td>None</td>\n",
       "      <td>None</td>\n",
       "      <td>97.0</td>\n",
       "      <td>1.090872</td>\n",
       "      <td>49.385041</td>\n",
       "      <td>000BH</td>\n",
       "    </tr>\n",
       "    <tr>\n",
       "      <th>1432</th>\n",
       "      <td>2018-1035048</td>\n",
       "      <td>2018-10-04</td>\n",
       "      <td>1</td>\n",
       "      <td>Vente</td>\n",
       "      <td>215000.0</td>\n",
       "      <td>33.0</td>\n",
       "      <td>None</td>\n",
       "      <td>RUE DES FUSILLES</td>\n",
       "      <td>940</td>\n",
       "      <td>76800</td>\n",
       "      <td>...</td>\n",
       "      <td>78.0</td>\n",
       "      <td>4.0</td>\n",
       "      <td>J</td>\n",
       "      <td>jardins</td>\n",
       "      <td>POTAG</td>\n",
       "      <td>Jardin potager</td>\n",
       "      <td>788.0</td>\n",
       "      <td>1.090872</td>\n",
       "      <td>49.385041</td>\n",
       "      <td>000BH</td>\n",
       "    </tr>\n",
       "  </tbody>\n",
       "</table>\n",
       "<p>2 rows × 41 columns</p>\n",
       "</div>"
      ],
      "text/plain": [
       "       id_mutation date_mutation  numero_disposition nature_mutation  \\\n",
       "1431  2018-1035048    2018-10-04                   1           Vente   \n",
       "1432  2018-1035048    2018-10-04                   1           Vente   \n",
       "\n",
       "      valeur_fonciere  adresse_numero adresse_suffixe  adresse_nom_voie  \\\n",
       "1431         215000.0            33.0            None  RUE DES FUSILLES   \n",
       "1432         215000.0            33.0            None  RUE DES FUSILLES   \n",
       "\n",
       "     adresse_code_voie code_postal  ...  surface_reelle_bati  \\\n",
       "1431               940       76800  ...                 78.0   \n",
       "1432               940       76800  ...                 78.0   \n",
       "\n",
       "     nombre_pieces_principales  code_nature_culture nature_culture  \\\n",
       "1431                       4.0                    S           sols   \n",
       "1432                       4.0                    J        jardins   \n",
       "\n",
       "     code_nature_culture_speciale nature_culture_speciale surface_terrain  \\\n",
       "1431                         None                    None            97.0   \n",
       "1432                        POTAG          Jardin potager           788.0   \n",
       "\n",
       "     longitude   latitude section_prefixe  \n",
       "1431  1.090872  49.385041           000BH  \n",
       "1432  1.090872  49.385041           000BH  \n",
       "\n",
       "[2 rows x 41 columns]"
      ]
     },
     "execution_count": 29,
     "metadata": {},
     "output_type": "execute_result"
    }
   ],
   "source": [
    "ds = pd.read_pickle('transaction_ser.pkl')\n",
    "ds = ds[ds['adresse_numero'] == 33]\n",
    "ds = ds[ds['adresse_nom_voie'] == 'RUE DES FUSILLES']\n",
    "\n",
    "ds"
   ]
  },
  {
   "cell_type": "code",
   "execution_count": 35,
   "metadata": {},
   "outputs": [
    {
     "data": {
      "text/html": [
       "<div>\n",
       "<style scoped>\n",
       "    .dataframe tbody tr th:only-of-type {\n",
       "        vertical-align: middle;\n",
       "    }\n",
       "\n",
       "    .dataframe tbody tr th {\n",
       "        vertical-align: top;\n",
       "    }\n",
       "\n",
       "    .dataframe thead th {\n",
       "        text-align: right;\n",
       "    }\n",
       "</style>\n",
       "<table border=\"1\" class=\"dataframe\">\n",
       "  <thead>\n",
       "    <tr style=\"text-align: right;\">\n",
       "      <th></th>\n",
       "      <th></th>\n",
       "      <th></th>\n",
       "      <th>count</th>\n",
       "    </tr>\n",
       "    <tr>\n",
       "      <th>adresse_nom_voie</th>\n",
       "      <th>adresse_numero</th>\n",
       "      <th>adresse_suffixe</th>\n",
       "      <th></th>\n",
       "    </tr>\n",
       "  </thead>\n",
       "  <tbody>\n",
       "    <tr>\n",
       "      <th>RUE PAUL BERT</th>\n",
       "      <th>21.0</th>\n",
       "      <th>None</th>\n",
       "      <td>79</td>\n",
       "    </tr>\n",
       "    <tr>\n",
       "      <th>RUE DES HORTENSIAS</th>\n",
       "      <th>6.0</th>\n",
       "      <th>None</th>\n",
       "      <td>74</td>\n",
       "    </tr>\n",
       "    <tr>\n",
       "      <th>IMMEUBLE ATLANTIDE</th>\n",
       "      <th>9001.0</th>\n",
       "      <th>None</th>\n",
       "      <td>48</td>\n",
       "    </tr>\n",
       "    <tr>\n",
       "      <th>IMM F CHATEAU BLANC</th>\n",
       "      <th>9011.0</th>\n",
       "      <th>None</th>\n",
       "      <td>42</td>\n",
       "    </tr>\n",
       "    <tr>\n",
       "      <th>RUE PIERRE LUGAT</th>\n",
       "      <th>1.0</th>\n",
       "      <th>None</th>\n",
       "      <td>40</td>\n",
       "    </tr>\n",
       "    <tr>\n",
       "      <th>...</th>\n",
       "      <th>...</th>\n",
       "      <th>...</th>\n",
       "      <td>...</td>\n",
       "    </tr>\n",
       "    <tr>\n",
       "      <th>RUE DELILLE</th>\n",
       "      <th>59.0</th>\n",
       "      <th>None</th>\n",
       "      <td>1</td>\n",
       "    </tr>\n",
       "    <tr>\n",
       "      <th rowspan=\"3\" valign=\"top\">RUE DES ANEMONES</th>\n",
       "      <th>1.0</th>\n",
       "      <th>None</th>\n",
       "      <td>1</td>\n",
       "    </tr>\n",
       "    <tr>\n",
       "      <th>3.0</th>\n",
       "      <th>B</th>\n",
       "      <td>1</td>\n",
       "    </tr>\n",
       "    <tr>\n",
       "      <th>26.0</th>\n",
       "      <th>None</th>\n",
       "      <td>1</td>\n",
       "    </tr>\n",
       "    <tr>\n",
       "      <th>RUE WEBER</th>\n",
       "      <th>20.0</th>\n",
       "      <th>None</th>\n",
       "      <td>1</td>\n",
       "    </tr>\n",
       "  </tbody>\n",
       "</table>\n",
       "<p>1222 rows × 1 columns</p>\n",
       "</div>"
      ],
      "text/plain": [
       "                                                    count\n",
       "adresse_nom_voie    adresse_numero adresse_suffixe       \n",
       "RUE PAUL BERT       21.0           None                79\n",
       "RUE DES HORTENSIAS  6.0            None                74\n",
       "IMMEUBLE ATLANTIDE  9001.0         None                48\n",
       "IMM F CHATEAU BLANC 9011.0         None                42\n",
       "RUE PIERRE LUGAT    1.0            None                40\n",
       "...                                                   ...\n",
       "RUE DELILLE         59.0           None                 1\n",
       "RUE DES ANEMONES    1.0            None                 1\n",
       "                    3.0            B                    1\n",
       "                    26.0           None                 1\n",
       "RUE WEBER           20.0           None                 1\n",
       "\n",
       "[1222 rows x 1 columns]"
      ]
     },
     "execution_count": 35,
     "metadata": {},
     "output_type": "execute_result"
    }
   ],
   "source": [
    "ds = pd.read_pickle('transaction_ser.pkl')\n",
    "ds['count'] = 1\n",
    "ds[['adresse_nom_voie','adresse_suffixe','adresse_numero', 'count']].groupby(['adresse_nom_voie', 'adresse_numero','adresse_suffixe']).count().sort_values(by='count', ascending=False)"
   ]
  },
  {
   "cell_type": "code",
   "execution_count": 48,
   "metadata": {},
   "outputs": [],
   "source": [
    "ds = pd.read_pickle('transaction_ser.pkl')\n",
    "#uniquement les types 'sols'\n",
    "ds = ds[ds['code_nature_culture'] == 'S']\n",
    "#supprimer les colonnes inutiles (garder valeur foncière, surface, terrain, pièces)\n",
    "ds = ds[['valeur_fonciere', 'surface_reelle_bati', 'surface_terrain', 'nombre_pieces_principales']]\n",
    "ds = ds.dropna()\n",
    "\n",
    "\n",
    "#supprimer les lignes avec valeur foncière > 2 000 000\n",
    "ds = ds[ds['valeur_fonciere'] <= 500000]\n",
    "ds = ds[ds['valeur_fonciere'] >= 5000]\n",
    "#supprimer les lignes avec surface terrain > 25000\n",
    "ds = ds[ds['surface_terrain'] < 25000]\n",
    "\n",
    "#supprimer les lignes avec surface bati > 1000\n",
    "ds = ds[ds['surface_reelle_bati'] < 1000]\n",
    "\n",
    "#supprimer les lignes avec nombre de pièces > 10\n",
    "ds = ds[ds['nombre_pieces_principales'] < 10]\n",
    "ds = ds[ds['nombre_pieces_principales'] != 0]"
   ]
  },
  {
   "cell_type": "code",
   "execution_count": 63,
   "metadata": {},
   "outputs": [
    {
     "name": "stdout",
     "output_type": "stream",
     "text": [
      "Coefficients:  [606.7658395  111.21130839]\n",
      "Intercept:  76574.08304722056\n",
      "Score:  0.287636368535771\n"
     ]
    },
    {
     "data": {
      "text/plain": [
       "array([147357.61188644])"
      ]
     },
     "execution_count": 63,
     "metadata": {},
     "output_type": "execute_result"
    }
   ],
   "source": [
    "#effectuer une regression linéaire pour trouver les coefficients de la fonction\n",
    "from sklearn.linear_model import LinearRegression\n",
    "\n",
    "X = ds[['surface_reelle_bati', 'surface_terrain']]\n",
    "y = ds['valeur_fonciere']\n",
    "\n",
    "reg = LinearRegression().fit(X, y)\n",
    "reg.score(X, y)\n",
    "reg.coef_\n",
    "reg.intercept_\n",
    "\n",
    "#afficher les coefficients de la fonction et leurs labels\n",
    "print(\"Coefficients: \", reg.coef_)\n",
    "print(\"Intercept: \", reg.intercept_)\n",
    "print(\"Score: \", reg.score(X, y))\n",
    "\n",
    "\n",
    "#prédire le prix d'une maison de 100m², 1000m² de terrain et 5 pièces\n",
    "reg.predict([[80, 200]])\n",
    "\n",
    "    \n",
    "\n"
   ]
  },
  {
   "cell_type": "code",
   "execution_count": 55,
   "metadata": {},
   "outputs": [
    {
     "name": "stdout",
     "output_type": "stream",
     "text": [
      "Coefficients:  [  1041.7408876     109.54769919 -14679.55861301]\n",
      "Intercept:  100827.90593362834\n",
      "Score:  0.3206550833748646\n"
     ]
    },
    {
     "data": {
      "text/plain": [
       "array([191397.15816734])"
      ]
     },
     "execution_count": 55,
     "metadata": {},
     "output_type": "execute_result"
    }
   ],
   "source": [
    "#utiliser la méthode lasso pour trouver les coefficients de la fonction\n",
    "from sklearn.linear_model import Lasso\n",
    "\n",
    "X = ds[['surface_reelle_bati', 'surface_terrain', 'nombre_pieces_principales']]\n",
    "y = ds['valeur_fonciere']\n",
    "\n",
    "reg = Lasso(alpha=0.1).fit(X, y)\n",
    "reg.score(X, y)\n",
    "reg.coef_\n",
    "reg.intercept_\n",
    "\n",
    "#afficher les coefficients de la fonction et leurs labels\n",
    "print(\"Coefficients: \", reg.coef_)\n",
    "print(\"Intercept: \", reg.intercept_)\n",
    "print(\"Score: \", reg.score(X, y))\n",
    "\n",
    "#prédire le prix d'une maison de 100m², 1000m² de terrain et 5 pièces\n",
    "reg.predict([[80, 200, 1]])\n"
   ]
  },
  {
   "cell_type": "code",
   "execution_count": 61,
   "metadata": {},
   "outputs": [
    {
     "data": {
      "application/vnd.plotly.v1+json": {
       "config": {
        "plotlyServerURL": "https://plot.ly"
       },
       "data": [
        {
         "hovertemplate": "date_mutation=%{x}<br>prix_metre_carre=%{y}<extra></extra>",
         "legendgroup": "",
         "line": {
          "color": "#636efa",
          "dash": "solid"
         },
         "marker": {
          "symbol": "circle"
         },
         "mode": "lines",
         "name": "",
         "orientation": "v",
         "showlegend": false,
         "type": "scatter",
         "x": [
          "2017-07",
          "2017-08",
          "2017-09",
          "2017-10",
          "2017-11",
          "2017-12",
          "2018-01",
          "2018-02",
          "2018-03",
          "2018-04",
          "2018-05",
          "2018-06",
          "2018-07",
          "2018-08",
          "2018-09",
          "2018-10",
          "2018-11",
          "2018-12",
          "2019-01",
          "2019-02",
          "2019-03",
          "2019-04",
          "2019-05",
          "2019-06",
          "2019-07",
          "2019-08",
          "2019-09",
          "2019-10",
          "2019-11",
          "2019-12",
          "2020-01",
          "2020-02",
          "2020-03",
          "2020-04",
          "2020-05",
          "2020-06",
          "2020-07",
          "2020-08",
          "2020-09",
          "2020-10",
          "2020-11",
          "2020-12",
          "2021-01",
          "2021-02",
          "2021-03",
          "2021-04",
          "2021-05",
          "2021-06",
          "2021-07",
          "2021-08",
          "2021-09",
          "2021-10",
          "2021-11",
          "2022-01",
          "2022-02",
          "2022-03",
          "2022-04",
          "2022-05",
          "2022-06"
         ],
         "xaxis": "x",
         "y": [
          2076.7555264677176,
          1933.0737055992035,
          1950.8266187263507,
          1849.0905403670758,
          1831.4786710708606,
          1892.5213551440938,
          1764.5395150275092,
          2069.1933252366416,
          1814.943657668908,
          2059.994173967978,
          2050.1020850719133,
          2281.165159465421,
          1843.3274756444255,
          2026.8426093457992,
          1808.0665612297755,
          2049.6605349305796,
          2046.812409047342,
          1971.567575479559,
          2008.1937080339508,
          1991.3492068233354,
          2134.190401405066,
          1912.2881002541194,
          1943.9760762253861,
          1907.9104218430307,
          1897.5205600515826,
          2021.9547625319985,
          2052.788792172684,
          1783.4220486997801,
          1819.1808223157232,
          2131.829205515746,
          2284.1268469855427,
          2011.0765785976255,
          2087.6110548576175,
          2163.2171488340196,
          1967.2734506473876,
          2104.8340155364995,
          1981.2289888996472,
          2210.1262893238845,
          2000.1150118106482,
          1885.5296216583295,
          2046.6605653019956,
          1821.807458604895,
          2169.2553374148706,
          2007.0213549483926,
          2074.6046103278,
          2308.717709588108,
          2060.488143780195,
          2091.9424185113153,
          2387.9571243263754,
          2283.8713684189047,
          2192.8776282301387,
          2205.5849418975495,
          2143.7146089709295,
          2575.858781036094,
          2162.162162162162,
          2085,
          2075.933756166314,
          2318.7066627696768,
          2181.2359657885977
         ],
         "yaxis": "y"
        }
       ],
       "layout": {
        "legend": {
         "tracegroupgap": 0
        },
        "template": {
         "data": {
          "bar": [
           {
            "error_x": {
             "color": "#2a3f5f"
            },
            "error_y": {
             "color": "#2a3f5f"
            },
            "marker": {
             "line": {
              "color": "#E5ECF6",
              "width": 0.5
             },
             "pattern": {
              "fillmode": "overlay",
              "size": 10,
              "solidity": 0.2
             }
            },
            "type": "bar"
           }
          ],
          "barpolar": [
           {
            "marker": {
             "line": {
              "color": "#E5ECF6",
              "width": 0.5
             },
             "pattern": {
              "fillmode": "overlay",
              "size": 10,
              "solidity": 0.2
             }
            },
            "type": "barpolar"
           }
          ],
          "carpet": [
           {
            "aaxis": {
             "endlinecolor": "#2a3f5f",
             "gridcolor": "white",
             "linecolor": "white",
             "minorgridcolor": "white",
             "startlinecolor": "#2a3f5f"
            },
            "baxis": {
             "endlinecolor": "#2a3f5f",
             "gridcolor": "white",
             "linecolor": "white",
             "minorgridcolor": "white",
             "startlinecolor": "#2a3f5f"
            },
            "type": "carpet"
           }
          ],
          "choropleth": [
           {
            "colorbar": {
             "outlinewidth": 0,
             "ticks": ""
            },
            "type": "choropleth"
           }
          ],
          "contour": [
           {
            "colorbar": {
             "outlinewidth": 0,
             "ticks": ""
            },
            "colorscale": [
             [
              0,
              "#0d0887"
             ],
             [
              0.1111111111111111,
              "#46039f"
             ],
             [
              0.2222222222222222,
              "#7201a8"
             ],
             [
              0.3333333333333333,
              "#9c179e"
             ],
             [
              0.4444444444444444,
              "#bd3786"
             ],
             [
              0.5555555555555556,
              "#d8576b"
             ],
             [
              0.6666666666666666,
              "#ed7953"
             ],
             [
              0.7777777777777778,
              "#fb9f3a"
             ],
             [
              0.8888888888888888,
              "#fdca26"
             ],
             [
              1,
              "#f0f921"
             ]
            ],
            "type": "contour"
           }
          ],
          "contourcarpet": [
           {
            "colorbar": {
             "outlinewidth": 0,
             "ticks": ""
            },
            "type": "contourcarpet"
           }
          ],
          "heatmap": [
           {
            "colorbar": {
             "outlinewidth": 0,
             "ticks": ""
            },
            "colorscale": [
             [
              0,
              "#0d0887"
             ],
             [
              0.1111111111111111,
              "#46039f"
             ],
             [
              0.2222222222222222,
              "#7201a8"
             ],
             [
              0.3333333333333333,
              "#9c179e"
             ],
             [
              0.4444444444444444,
              "#bd3786"
             ],
             [
              0.5555555555555556,
              "#d8576b"
             ],
             [
              0.6666666666666666,
              "#ed7953"
             ],
             [
              0.7777777777777778,
              "#fb9f3a"
             ],
             [
              0.8888888888888888,
              "#fdca26"
             ],
             [
              1,
              "#f0f921"
             ]
            ],
            "type": "heatmap"
           }
          ],
          "heatmapgl": [
           {
            "colorbar": {
             "outlinewidth": 0,
             "ticks": ""
            },
            "colorscale": [
             [
              0,
              "#0d0887"
             ],
             [
              0.1111111111111111,
              "#46039f"
             ],
             [
              0.2222222222222222,
              "#7201a8"
             ],
             [
              0.3333333333333333,
              "#9c179e"
             ],
             [
              0.4444444444444444,
              "#bd3786"
             ],
             [
              0.5555555555555556,
              "#d8576b"
             ],
             [
              0.6666666666666666,
              "#ed7953"
             ],
             [
              0.7777777777777778,
              "#fb9f3a"
             ],
             [
              0.8888888888888888,
              "#fdca26"
             ],
             [
              1,
              "#f0f921"
             ]
            ],
            "type": "heatmapgl"
           }
          ],
          "histogram": [
           {
            "marker": {
             "pattern": {
              "fillmode": "overlay",
              "size": 10,
              "solidity": 0.2
             }
            },
            "type": "histogram"
           }
          ],
          "histogram2d": [
           {
            "colorbar": {
             "outlinewidth": 0,
             "ticks": ""
            },
            "colorscale": [
             [
              0,
              "#0d0887"
             ],
             [
              0.1111111111111111,
              "#46039f"
             ],
             [
              0.2222222222222222,
              "#7201a8"
             ],
             [
              0.3333333333333333,
              "#9c179e"
             ],
             [
              0.4444444444444444,
              "#bd3786"
             ],
             [
              0.5555555555555556,
              "#d8576b"
             ],
             [
              0.6666666666666666,
              "#ed7953"
             ],
             [
              0.7777777777777778,
              "#fb9f3a"
             ],
             [
              0.8888888888888888,
              "#fdca26"
             ],
             [
              1,
              "#f0f921"
             ]
            ],
            "type": "histogram2d"
           }
          ],
          "histogram2dcontour": [
           {
            "colorbar": {
             "outlinewidth": 0,
             "ticks": ""
            },
            "colorscale": [
             [
              0,
              "#0d0887"
             ],
             [
              0.1111111111111111,
              "#46039f"
             ],
             [
              0.2222222222222222,
              "#7201a8"
             ],
             [
              0.3333333333333333,
              "#9c179e"
             ],
             [
              0.4444444444444444,
              "#bd3786"
             ],
             [
              0.5555555555555556,
              "#d8576b"
             ],
             [
              0.6666666666666666,
              "#ed7953"
             ],
             [
              0.7777777777777778,
              "#fb9f3a"
             ],
             [
              0.8888888888888888,
              "#fdca26"
             ],
             [
              1,
              "#f0f921"
             ]
            ],
            "type": "histogram2dcontour"
           }
          ],
          "mesh3d": [
           {
            "colorbar": {
             "outlinewidth": 0,
             "ticks": ""
            },
            "type": "mesh3d"
           }
          ],
          "parcoords": [
           {
            "line": {
             "colorbar": {
              "outlinewidth": 0,
              "ticks": ""
             }
            },
            "type": "parcoords"
           }
          ],
          "pie": [
           {
            "automargin": true,
            "type": "pie"
           }
          ],
          "scatter": [
           {
            "marker": {
             "colorbar": {
              "outlinewidth": 0,
              "ticks": ""
             }
            },
            "type": "scatter"
           }
          ],
          "scatter3d": [
           {
            "line": {
             "colorbar": {
              "outlinewidth": 0,
              "ticks": ""
             }
            },
            "marker": {
             "colorbar": {
              "outlinewidth": 0,
              "ticks": ""
             }
            },
            "type": "scatter3d"
           }
          ],
          "scattercarpet": [
           {
            "marker": {
             "colorbar": {
              "outlinewidth": 0,
              "ticks": ""
             }
            },
            "type": "scattercarpet"
           }
          ],
          "scattergeo": [
           {
            "marker": {
             "colorbar": {
              "outlinewidth": 0,
              "ticks": ""
             }
            },
            "type": "scattergeo"
           }
          ],
          "scattergl": [
           {
            "marker": {
             "colorbar": {
              "outlinewidth": 0,
              "ticks": ""
             }
            },
            "type": "scattergl"
           }
          ],
          "scattermapbox": [
           {
            "marker": {
             "colorbar": {
              "outlinewidth": 0,
              "ticks": ""
             }
            },
            "type": "scattermapbox"
           }
          ],
          "scatterpolar": [
           {
            "marker": {
             "colorbar": {
              "outlinewidth": 0,
              "ticks": ""
             }
            },
            "type": "scatterpolar"
           }
          ],
          "scatterpolargl": [
           {
            "marker": {
             "colorbar": {
              "outlinewidth": 0,
              "ticks": ""
             }
            },
            "type": "scatterpolargl"
           }
          ],
          "scatterternary": [
           {
            "marker": {
             "colorbar": {
              "outlinewidth": 0,
              "ticks": ""
             }
            },
            "type": "scatterternary"
           }
          ],
          "surface": [
           {
            "colorbar": {
             "outlinewidth": 0,
             "ticks": ""
            },
            "colorscale": [
             [
              0,
              "#0d0887"
             ],
             [
              0.1111111111111111,
              "#46039f"
             ],
             [
              0.2222222222222222,
              "#7201a8"
             ],
             [
              0.3333333333333333,
              "#9c179e"
             ],
             [
              0.4444444444444444,
              "#bd3786"
             ],
             [
              0.5555555555555556,
              "#d8576b"
             ],
             [
              0.6666666666666666,
              "#ed7953"
             ],
             [
              0.7777777777777778,
              "#fb9f3a"
             ],
             [
              0.8888888888888888,
              "#fdca26"
             ],
             [
              1,
              "#f0f921"
             ]
            ],
            "type": "surface"
           }
          ],
          "table": [
           {
            "cells": {
             "fill": {
              "color": "#EBF0F8"
             },
             "line": {
              "color": "white"
             }
            },
            "header": {
             "fill": {
              "color": "#C8D4E3"
             },
             "line": {
              "color": "white"
             }
            },
            "type": "table"
           }
          ]
         },
         "layout": {
          "annotationdefaults": {
           "arrowcolor": "#2a3f5f",
           "arrowhead": 0,
           "arrowwidth": 1
          },
          "autotypenumbers": "strict",
          "coloraxis": {
           "colorbar": {
            "outlinewidth": 0,
            "ticks": ""
           }
          },
          "colorscale": {
           "diverging": [
            [
             0,
             "#8e0152"
            ],
            [
             0.1,
             "#c51b7d"
            ],
            [
             0.2,
             "#de77ae"
            ],
            [
             0.3,
             "#f1b6da"
            ],
            [
             0.4,
             "#fde0ef"
            ],
            [
             0.5,
             "#f7f7f7"
            ],
            [
             0.6,
             "#e6f5d0"
            ],
            [
             0.7,
             "#b8e186"
            ],
            [
             0.8,
             "#7fbc41"
            ],
            [
             0.9,
             "#4d9221"
            ],
            [
             1,
             "#276419"
            ]
           ],
           "sequential": [
            [
             0,
             "#0d0887"
            ],
            [
             0.1111111111111111,
             "#46039f"
            ],
            [
             0.2222222222222222,
             "#7201a8"
            ],
            [
             0.3333333333333333,
             "#9c179e"
            ],
            [
             0.4444444444444444,
             "#bd3786"
            ],
            [
             0.5555555555555556,
             "#d8576b"
            ],
            [
             0.6666666666666666,
             "#ed7953"
            ],
            [
             0.7777777777777778,
             "#fb9f3a"
            ],
            [
             0.8888888888888888,
             "#fdca26"
            ],
            [
             1,
             "#f0f921"
            ]
           ],
           "sequentialminus": [
            [
             0,
             "#0d0887"
            ],
            [
             0.1111111111111111,
             "#46039f"
            ],
            [
             0.2222222222222222,
             "#7201a8"
            ],
            [
             0.3333333333333333,
             "#9c179e"
            ],
            [
             0.4444444444444444,
             "#bd3786"
            ],
            [
             0.5555555555555556,
             "#d8576b"
            ],
            [
             0.6666666666666666,
             "#ed7953"
            ],
            [
             0.7777777777777778,
             "#fb9f3a"
            ],
            [
             0.8888888888888888,
             "#fdca26"
            ],
            [
             1,
             "#f0f921"
            ]
           ]
          },
          "colorway": [
           "#636efa",
           "#EF553B",
           "#00cc96",
           "#ab63fa",
           "#FFA15A",
           "#19d3f3",
           "#FF6692",
           "#B6E880",
           "#FF97FF",
           "#FECB52"
          ],
          "font": {
           "color": "#2a3f5f"
          },
          "geo": {
           "bgcolor": "white",
           "lakecolor": "white",
           "landcolor": "#E5ECF6",
           "showlakes": true,
           "showland": true,
           "subunitcolor": "white"
          },
          "hoverlabel": {
           "align": "left"
          },
          "hovermode": "closest",
          "mapbox": {
           "style": "light"
          },
          "paper_bgcolor": "white",
          "plot_bgcolor": "#E5ECF6",
          "polar": {
           "angularaxis": {
            "gridcolor": "white",
            "linecolor": "white",
            "ticks": ""
           },
           "bgcolor": "#E5ECF6",
           "radialaxis": {
            "gridcolor": "white",
            "linecolor": "white",
            "ticks": ""
           }
          },
          "scene": {
           "xaxis": {
            "backgroundcolor": "#E5ECF6",
            "gridcolor": "white",
            "gridwidth": 2,
            "linecolor": "white",
            "showbackground": true,
            "ticks": "",
            "zerolinecolor": "white"
           },
           "yaxis": {
            "backgroundcolor": "#E5ECF6",
            "gridcolor": "white",
            "gridwidth": 2,
            "linecolor": "white",
            "showbackground": true,
            "ticks": "",
            "zerolinecolor": "white"
           },
           "zaxis": {
            "backgroundcolor": "#E5ECF6",
            "gridcolor": "white",
            "gridwidth": 2,
            "linecolor": "white",
            "showbackground": true,
            "ticks": "",
            "zerolinecolor": "white"
           }
          },
          "shapedefaults": {
           "line": {
            "color": "#2a3f5f"
           }
          },
          "ternary": {
           "aaxis": {
            "gridcolor": "white",
            "linecolor": "white",
            "ticks": ""
           },
           "baxis": {
            "gridcolor": "white",
            "linecolor": "white",
            "ticks": ""
           },
           "bgcolor": "#E5ECF6",
           "caxis": {
            "gridcolor": "white",
            "linecolor": "white",
            "ticks": ""
           }
          },
          "title": {
           "x": 0.05
          },
          "xaxis": {
           "automargin": true,
           "gridcolor": "white",
           "linecolor": "white",
           "ticks": "",
           "title": {
            "standoff": 15
           },
           "zerolinecolor": "white",
           "zerolinewidth": 2
          },
          "yaxis": {
           "automargin": true,
           "gridcolor": "white",
           "linecolor": "white",
           "ticks": "",
           "title": {
            "standoff": 15
           },
           "zerolinecolor": "white",
           "zerolinewidth": 2
          }
         }
        },
        "title": {
         "text": "Evolution des prix au m² en fonction du temps dans la ville de Saint-Etienne-Du-Rouvray"
        },
        "xaxis": {
         "anchor": "y",
         "domain": [
          0,
          1
         ],
         "title": {
          "text": "Date de vente"
         }
        },
        "yaxis": {
         "anchor": "x",
         "domain": [
          0,
          1
         ],
         "title": {
          "text": "Prix au m²"
         }
        }
       }
      }
     },
     "metadata": {},
     "output_type": "display_data"
    },
    {
     "data": {
      "image/png": "[encoded data removed]",
      "text/plain": [
       "<Figure size 432x288 with 1 Axes>"
      ]
     },
     "metadata": {
      "needs_background": "light"
     },
     "output_type": "display_data"
    }
   ],
   "source": [
    "ds = pd.read_pickle('transaction_ser.pkl')\n",
    "#uniquement les types 'sols'\n",
    "ds = ds[ds['code_nature_culture'] == 'S']\n",
    "#supprimer les colonnes inutiles (garder valeur foncière, surface, terrain, pièces)\n",
    "ds = ds[['date_mutation','valeur_fonciere', 'surface_reelle_bati', 'surface_terrain', 'nombre_pieces_principales']]\n",
    "ds = ds.dropna()\n",
    "\n",
    "\n",
    "#supprimer les lignes avec valeur foncière > 2 000 000\n",
    "ds = ds[ds['valeur_fonciere'] <= 500000]\n",
    "ds = ds[ds['valeur_fonciere'] >= 5000]\n",
    "#supprimer les lignes avec surface terrain > 25000\n",
    "ds = ds[ds['surface_terrain'] < 25000]\n",
    "\n",
    "#supprimer les lignes avec surface bati > 1000\n",
    "ds = ds[ds['surface_reelle_bati'] < 1000]\n",
    "\n",
    "#supprimer les lignes avec nombre de pièces > 10\n",
    "ds = ds[ds['nombre_pieces_principales'] < 10]\n",
    "ds = ds[ds['nombre_pieces_principales'] != 0]\n",
    "\n",
    "ds = ds.dropna()\n",
    "\n",
    "ds['prix_metre_carre'] = ds['valeur_fonciere'] / ds['surface_reelle_bati']\n",
    "ds['prix_metre_carre_terrain'] = ds['valeur_fonciere'] / ds['surface_terrain']\n",
    "\n",
    "#regrouper par mois et calculer la moyenne du prix au m²\n",
    "ds = ds[['date_mutation', 'prix_metre_carre', 'prix_metre_carre_terrain']]\n",
    "#supprimer les valeurs trop hautes :\n",
    "ds = ds[ds['prix_metre_carre'] < 5000]\n",
    "ds = ds[ds['prix_metre_carre'] > 1000]\n",
    "\n",
    "ds = ds.groupby(['date_mutation']).mean()\n",
    "ds = ds.reset_index()\n",
    "\n",
    "#groupby month :\n",
    "ds['date_mutation'] = pd.to_datetime(ds['date_mutation'])\n",
    "ds['date_mutation'] = ds['date_mutation'].dt.to_period('M')\n",
    "\n",
    "ds = ds.groupby(['date_mutation']).mean()\n",
    "ds = ds.reset_index()\n",
    "\n",
    "#date mutation en string\n",
    "ds['date_mutation'] = ds['date_mutation'].astype(str)\n",
    "\n",
    "#afficher avec plotly\n",
    "import plotly.express as px\n",
    "fig = px.line(ds, x='date_mutation', y='prix_metre_carre', title='Evolution des prix au m² en fonction du temps dans la ville de Saint-Etienne-Du-Rouvray')\n",
    "#ajouter la légende des 2 axes\n",
    "fig.update_xaxes(title_text='Date de vente')\n",
    "fig.update_yaxes(title_text='Prix au m²')\n",
    "fig.show()\n",
    "\n",
    "#on crée une nouvelle colonne avec des ints allant de 1 à len(ds)\n",
    "ds['date_mutation_int'] = range(0, len(ds))\n",
    "\n",
    "#obtenir une approximation polynomiale de degré 3 de la fonction avec 'date_mutation_int' en x et 'prix_metre_carre' en y\n",
    "from sklearn.preprocessing import PolynomialFeatures\n",
    "from sklearn.linear_model import LinearRegression\n",
    "from sklearn.pipeline import make_pipeline\n",
    "\n",
    "model = make_pipeline(PolynomialFeatures(2), LinearRegression())\n",
    "model.fit(ds['date_mutation_int'].values.reshape(-1, 1), ds['prix_metre_carre'].values.reshape(-1, 1))\n",
    "\n",
    "#afficher l'approximation polynomiale\n",
    "import matplotlib.pyplot as plt\n",
    "import numpy as np\n",
    "\n",
    "x_plot = np.linspace(1, len(ds), 100)\n",
    "plt.scatter(ds['date_mutation_int'], ds['prix_metre_carre'])\n",
    "plt.plot(x_plot, model.predict(x_plot[:, np.newaxis]), color='red')\n",
    "#ajouter la légende des 2 axes\n",
    "plt.xlabel('Mois de vente')\n",
    "plt.ylabel('Prix au m²')\n",
    "#légende\n",
    "plt.legend(['Approximation polynomial', 'Valeurs réelles'])\n",
    "plt.show()\n",
    "\n",
    "\n",
    "\n",
    "\n",
    "\n",
    "\n",
    "\n",
    "\n",
    "\n",
    "\n"
   ]
  },
  {
   "cell_type": "code",
   "execution_count": 48,
   "metadata": {},
   "outputs": [
    {
     "data": {
      "image/png": "[encoded data removed]",
      "text/plain": [
       "<Figure size 432x288 with 2 Axes>"
      ]
     },
     "metadata": {
      "needs_background": "light"
     },
     "output_type": "display_data"
    }
   ],
   "source": [
    "\n",
    "import seaborn as sns\n",
    "import matplotlib.pyplot as plt\n",
    "\n",
    "ds = pd.read_pickle('transaction_ser.pkl')\n",
    "#uniquement les types 'sols'\n",
    "ds = ds[ds['code_nature_culture'] == 'S']\n",
    "#supprimer les colonnes inutiles (garder valeur foncière, surface, terrain, pièces)\n",
    "ds = ds.dropna()\n",
    "\n",
    "\n",
    "#supprimer les lignes avec valeur foncière > 2 000 000\n",
    "ds = ds[ds['valeur_fonciere'] <= 500000]\n",
    "ds = ds[ds['valeur_fonciere'] >= 5000]\n",
    "#supprimer les lignes avec surface terrain > 25000\n",
    "ds = ds[ds['surface_terrain'] < 25000]\n",
    "\n",
    "#supprimer les lignes avec surface bati > 1000\n",
    "ds = ds[ds['surface_reelle_bati'] < 1000]\n",
    "\n",
    "#supprimer les lignes avec nombre de pièces > 10\n",
    "ds = ds[ds['nombre_pieces_principales'] < 10]\n",
    "ds = ds[ds['nombre_pieces_principales'] != 0]\n",
    "\n",
    "ds = ds.dropna()\n",
    "\n",
    "ds['prix_metre_carre'] = ds['valeur_fonciere'] / ds['surface_reelle_bati']\n",
    "ds['prix_metre_carre_terrain'] = ds['valeur_fonciere'] / ds['surface_terrain']\n",
    "\n",
    "#supprimer les valeurs trop hautes :\n",
    "ds = ds[ds['prix_metre_carre'] < 3500]\n",
    "ds = ds[ds['prix_metre_carre'] > 1000]\n",
    "\n",
    "#drop code_commune, code_departement, nombre_lot\n",
    "ds = ds.drop(columns=['code_commune', 'code_departement', 'nombre_lots'])\n",
    "#afficher la matrice de corrélation\n",
    "corr = ds.corr()\n",
    "sns.heatmap(corr,\n",
    "            xticklabels=corr.columns.values,\n",
    "            yticklabels=corr.columns.values)\n",
    "plt.show()\n",
    "\n",
    "\n"
   ]
  },
  {
   "cell_type": "code",
   "execution_count": 28,
   "metadata": {},
   "outputs": [
    {
     "data": {
      "text/plain": [
       "1321    37250.000000\n",
       "1315    29800.000000\n",
       "1313    24833.333333\n",
       "1316    17529.411765\n",
       "1317    17529.411765\n",
       "2766    16250.000000\n",
       "2767    16250.000000\n",
       "2769    16250.000000\n",
       "2749    16250.000000\n",
       "2750    16250.000000\n",
       "2751    16250.000000\n",
       "2752    16250.000000\n",
       "2753    16250.000000\n",
       "2754    16250.000000\n",
       "2755    16250.000000\n",
       "2768    16250.000000\n",
       "1876    14253.333333\n",
       "1319    13545.454545\n",
       "1865    11111.111111\n",
       "1877    10429.268293\n",
       "1697    10043.478261\n",
       "1702    10043.478261\n",
       "1700     9625.000000\n",
       "1318     9312.500000\n",
       "1314     9312.500000\n",
       "1741     8928.571429\n",
       "1743     8928.571429\n",
       "1744     8928.571429\n",
       "1746     8928.571429\n",
       "1747     8928.571429\n",
       "1742     8928.571429\n",
       "1698     8884.615385\n",
       "59       6000.000000\n",
       "1469     5312.500000\n",
       "1489     5177.777778\n",
       "1878     5090.476190\n",
       "1704     5021.739130\n",
       "1703     5021.739130\n",
       "1320     4966.666667\n",
       "1880     4804.494382\n",
       "1879     4804.494382\n",
       "1506     4666.666667\n",
       "1490     4660.000000\n",
       "1699     4620.000000\n",
       "1701     4620.000000\n",
       "1745     4166.666667\n",
       "2327     4066.666667\n",
       "1647     3846.153846\n",
       "747      3796.296296\n",
       "2350     3743.902439\n",
       "Name: prix_metre_carre, dtype: float64"
      ]
     },
     "execution_count": 28,
     "metadata": {},
     "output_type": "execute_result"
    }
   ],
   "source": [
    "ds.prix_metre_carre.sort_values(ascending=False).head(50)"
   ]
  },
  {
   "cell_type": "code",
   "execution_count": 4,
   "metadata": {},
   "outputs": [],
   "source": [
    "#importer tous les fichiers csv du dossier transactions-ser avec pandas et les concatener dans un seul fichier pickle\n",
    "\n",
    "def import_csv():\n",
    "    import glob\n",
    "    import os\n",
    "    import pickle\n",
    "    path = r'./transactions-ser'\n",
    "    all_files = glob.glob(os.path.join(path, \"*.csv\"))\n",
    "    #pour chaque ligne, ajouter une colonne 'cadastre' avec les 2 derniers caractères du nom du fichier avant .csv\n",
    "    df_from_each_file = (pd.read_csv(f, sep=';', encoding='latin-1', low_memory=False).assign(cadastre=f[-6:-4]) for f in all_files)\n",
    "\n",
    "    df = pd.concat(df_from_each_file, ignore_index=True)\n",
    "    df.to_pickle(\"transaction_ser.pkl\")\n",
    "    return df\n",
    "    \n"
   ]
  },
  {
   "cell_type": "code",
   "execution_count": 5,
   "metadata": {},
   "outputs": [
    {
     "data": {
      "text/html": [
       "<div>\n",
       "<style scoped>\n",
       "    .dataframe tbody tr th:only-of-type {\n",
       "        vertical-align: middle;\n",
       "    }\n",
       "\n",
       "    .dataframe tbody tr th {\n",
       "        vertical-align: top;\n",
       "    }\n",
       "\n",
       "    .dataframe thead th {\n",
       "        text-align: right;\n",
       "    }\n",
       "</style>\n",
       "<table border=\"1\" class=\"dataframe\">\n",
       "  <thead>\n",
       "    <tr style=\"text-align: right;\">\n",
       "      <th></th>\n",
       "      <th>id_mutation</th>\n",
       "      <th>date_mutation</th>\n",
       "      <th>numero_disposition</th>\n",
       "      <th>nature_mutation</th>\n",
       "      <th>valeur_fonciere</th>\n",
       "      <th>adresse_numero</th>\n",
       "      <th>adresse_suffixe</th>\n",
       "      <th>adresse_nom_voie</th>\n",
       "      <th>adresse_code_voie</th>\n",
       "      <th>code_postal</th>\n",
       "      <th>...</th>\n",
       "      <th>nombre_pieces_principales</th>\n",
       "      <th>code_nature_culture</th>\n",
       "      <th>nature_culture</th>\n",
       "      <th>code_nature_culture_speciale</th>\n",
       "      <th>nature_culture_speciale</th>\n",
       "      <th>surface_terrain</th>\n",
       "      <th>longitude</th>\n",
       "      <th>latitude</th>\n",
       "      <th>section_prefixe</th>\n",
       "      <th>cadastre</th>\n",
       "    </tr>\n",
       "  </thead>\n",
       "  <tbody>\n",
       "    <tr>\n",
       "      <th>0</th>\n",
       "      <td>2022-360376</td>\n",
       "      <td>2022-05-16</td>\n",
       "      <td>1</td>\n",
       "      <td>Vente</td>\n",
       "      <td>170000.0</td>\n",
       "      <td>6.0</td>\n",
       "      <td>None</td>\n",
       "      <td>PL DE L EGLISE</td>\n",
       "      <td>730</td>\n",
       "      <td>76800</td>\n",
       "      <td>...</td>\n",
       "      <td>4.0</td>\n",
       "      <td>S</td>\n",
       "      <td>sols</td>\n",
       "      <td>None</td>\n",
       "      <td>None</td>\n",
       "      <td>319.0</td>\n",
       "      <td>1.106595</td>\n",
       "      <td>49.382037</td>\n",
       "      <td>000AZ</td>\n",
       "      <td>AZ</td>\n",
       "    </tr>\n",
       "    <tr>\n",
       "      <th>1</th>\n",
       "      <td>2022-360376</td>\n",
       "      <td>2022-05-16</td>\n",
       "      <td>1</td>\n",
       "      <td>Vente</td>\n",
       "      <td>170000.0</td>\n",
       "      <td>37.0</td>\n",
       "      <td>None</td>\n",
       "      <td>RUE GAMBETTA</td>\n",
       "      <td>974</td>\n",
       "      <td>76800</td>\n",
       "      <td>...</td>\n",
       "      <td>NaN</td>\n",
       "      <td>S</td>\n",
       "      <td>sols</td>\n",
       "      <td>None</td>\n",
       "      <td>None</td>\n",
       "      <td>234.0</td>\n",
       "      <td>1.106238</td>\n",
       "      <td>49.382039</td>\n",
       "      <td>000AZ</td>\n",
       "      <td>AZ</td>\n",
       "    </tr>\n",
       "    <tr>\n",
       "      <th>2</th>\n",
       "      <td>2021-1184802</td>\n",
       "      <td>2021-11-10</td>\n",
       "      <td>1</td>\n",
       "      <td>Vente</td>\n",
       "      <td>107000.0</td>\n",
       "      <td>39.0</td>\n",
       "      <td>None</td>\n",
       "      <td>RUE GAMBETTA</td>\n",
       "      <td>974</td>\n",
       "      <td>76800</td>\n",
       "      <td>...</td>\n",
       "      <td>4.0</td>\n",
       "      <td>S</td>\n",
       "      <td>sols</td>\n",
       "      <td>None</td>\n",
       "      <td>None</td>\n",
       "      <td>38.0</td>\n",
       "      <td>1.106127</td>\n",
       "      <td>49.382122</td>\n",
       "      <td>000AZ</td>\n",
       "      <td>AZ</td>\n",
       "    </tr>\n",
       "    <tr>\n",
       "      <th>3</th>\n",
       "      <td>2021-1184802</td>\n",
       "      <td>2021-11-10</td>\n",
       "      <td>1</td>\n",
       "      <td>Vente</td>\n",
       "      <td>107000.0</td>\n",
       "      <td>39.0</td>\n",
       "      <td>None</td>\n",
       "      <td>RUE GAMBETTA</td>\n",
       "      <td>974</td>\n",
       "      <td>76800</td>\n",
       "      <td>...</td>\n",
       "      <td>0.0</td>\n",
       "      <td>S</td>\n",
       "      <td>sols</td>\n",
       "      <td>None</td>\n",
       "      <td>None</td>\n",
       "      <td>38.0</td>\n",
       "      <td>1.106127</td>\n",
       "      <td>49.382122</td>\n",
       "      <td>000AZ</td>\n",
       "      <td>AZ</td>\n",
       "    </tr>\n",
       "    <tr>\n",
       "      <th>4</th>\n",
       "      <td>2021-1184802</td>\n",
       "      <td>2021-11-10</td>\n",
       "      <td>1</td>\n",
       "      <td>Vente</td>\n",
       "      <td>107000.0</td>\n",
       "      <td>37.0</td>\n",
       "      <td>None</td>\n",
       "      <td>RUE GAMBETTA</td>\n",
       "      <td>974</td>\n",
       "      <td>76800</td>\n",
       "      <td>...</td>\n",
       "      <td>NaN</td>\n",
       "      <td>S</td>\n",
       "      <td>sols</td>\n",
       "      <td>None</td>\n",
       "      <td>None</td>\n",
       "      <td>234.0</td>\n",
       "      <td>1.106238</td>\n",
       "      <td>49.382039</td>\n",
       "      <td>000AZ</td>\n",
       "      <td>AZ</td>\n",
       "    </tr>\n",
       "    <tr>\n",
       "      <th>...</th>\n",
       "      <td>...</td>\n",
       "      <td>...</td>\n",
       "      <td>...</td>\n",
       "      <td>...</td>\n",
       "      <td>...</td>\n",
       "      <td>...</td>\n",
       "      <td>...</td>\n",
       "      <td>...</td>\n",
       "      <td>...</td>\n",
       "      <td>...</td>\n",
       "      <td>...</td>\n",
       "      <td>...</td>\n",
       "      <td>...</td>\n",
       "      <td>...</td>\n",
       "      <td>...</td>\n",
       "      <td>...</td>\n",
       "      <td>...</td>\n",
       "      <td>...</td>\n",
       "      <td>...</td>\n",
       "      <td>...</td>\n",
       "      <td>...</td>\n",
       "    </tr>\n",
       "    <tr>\n",
       "      <th>2967</th>\n",
       "      <td>2017-543786</td>\n",
       "      <td>2017-08-28</td>\n",
       "      <td>1</td>\n",
       "      <td>Vente</td>\n",
       "      <td>65000.0</td>\n",
       "      <td>4.0</td>\n",
       "      <td>None</td>\n",
       "      <td>RUE DE FORT DE VAUX</td>\n",
       "      <td>910</td>\n",
       "      <td>76800</td>\n",
       "      <td>...</td>\n",
       "      <td>2.0</td>\n",
       "      <td>S</td>\n",
       "      <td>sols</td>\n",
       "      <td>None</td>\n",
       "      <td>None</td>\n",
       "      <td>268.0</td>\n",
       "      <td>1.107607</td>\n",
       "      <td>49.374767</td>\n",
       "      <td>000AT</td>\n",
       "      <td>AT</td>\n",
       "    </tr>\n",
       "    <tr>\n",
       "      <th>2968</th>\n",
       "      <td>2017-543907</td>\n",
       "      <td>2017-08-25</td>\n",
       "      <td>1</td>\n",
       "      <td>Vente</td>\n",
       "      <td>181400.0</td>\n",
       "      <td>19.0</td>\n",
       "      <td>None</td>\n",
       "      <td>RUE DE LORRAINE</td>\n",
       "      <td>1510</td>\n",
       "      <td>76800</td>\n",
       "      <td>...</td>\n",
       "      <td>6.0</td>\n",
       "      <td>S</td>\n",
       "      <td>sols</td>\n",
       "      <td>None</td>\n",
       "      <td>None</td>\n",
       "      <td>401.0</td>\n",
       "      <td>1.100599</td>\n",
       "      <td>49.373885</td>\n",
       "      <td>000AT</td>\n",
       "      <td>AT</td>\n",
       "    </tr>\n",
       "    <tr>\n",
       "      <th>2969</th>\n",
       "      <td>2017-543907</td>\n",
       "      <td>2017-08-25</td>\n",
       "      <td>1</td>\n",
       "      <td>Vente</td>\n",
       "      <td>181400.0</td>\n",
       "      <td>19.0</td>\n",
       "      <td>None</td>\n",
       "      <td>RUE DE LORRAINE</td>\n",
       "      <td>1510</td>\n",
       "      <td>76800</td>\n",
       "      <td>...</td>\n",
       "      <td>NaN</td>\n",
       "      <td>J</td>\n",
       "      <td>jardins</td>\n",
       "      <td>POTAG</td>\n",
       "      <td>Jardin potager</td>\n",
       "      <td>89.0</td>\n",
       "      <td>1.100471</td>\n",
       "      <td>49.373929</td>\n",
       "      <td>000AT</td>\n",
       "      <td>AT</td>\n",
       "    </tr>\n",
       "    <tr>\n",
       "      <th>2970</th>\n",
       "      <td>2017-543682</td>\n",
       "      <td>2017-08-21</td>\n",
       "      <td>1</td>\n",
       "      <td>Vente</td>\n",
       "      <td>199000.0</td>\n",
       "      <td>29.0</td>\n",
       "      <td>None</td>\n",
       "      <td>CHE DU BON CLOS</td>\n",
       "      <td>300</td>\n",
       "      <td>76800</td>\n",
       "      <td>...</td>\n",
       "      <td>5.0</td>\n",
       "      <td>S</td>\n",
       "      <td>sols</td>\n",
       "      <td>None</td>\n",
       "      <td>None</td>\n",
       "      <td>362.0</td>\n",
       "      <td>1.100397</td>\n",
       "      <td>49.374971</td>\n",
       "      <td>000AT</td>\n",
       "      <td>AT</td>\n",
       "    </tr>\n",
       "    <tr>\n",
       "      <th>2971</th>\n",
       "      <td>2017-542967</td>\n",
       "      <td>2017-07-10</td>\n",
       "      <td>1</td>\n",
       "      <td>Vente</td>\n",
       "      <td>196500.0</td>\n",
       "      <td>2.0</td>\n",
       "      <td>None</td>\n",
       "      <td>RUE EMILE ZOLA</td>\n",
       "      <td>750</td>\n",
       "      <td>76800</td>\n",
       "      <td>...</td>\n",
       "      <td>5.0</td>\n",
       "      <td>S</td>\n",
       "      <td>sols</td>\n",
       "      <td>None</td>\n",
       "      <td>None</td>\n",
       "      <td>714.0</td>\n",
       "      <td>1.100223</td>\n",
       "      <td>49.373475</td>\n",
       "      <td>000AT</td>\n",
       "      <td>AT</td>\n",
       "    </tr>\n",
       "  </tbody>\n",
       "</table>\n",
       "<p>2972 rows × 42 columns</p>\n",
       "</div>"
      ],
      "text/plain": [
       "       id_mutation date_mutation  numero_disposition nature_mutation  \\\n",
       "0      2022-360376    2022-05-16                   1           Vente   \n",
       "1      2022-360376    2022-05-16                   1           Vente   \n",
       "2     2021-1184802    2021-11-10                   1           Vente   \n",
       "3     2021-1184802    2021-11-10                   1           Vente   \n",
       "4     2021-1184802    2021-11-10                   1           Vente   \n",
       "...            ...           ...                 ...             ...   \n",
       "2967   2017-543786    2017-08-28                   1           Vente   \n",
       "2968   2017-543907    2017-08-25                   1           Vente   \n",
       "2969   2017-543907    2017-08-25                   1           Vente   \n",
       "2970   2017-543682    2017-08-21                   1           Vente   \n",
       "2971   2017-542967    2017-07-10                   1           Vente   \n",
       "\n",
       "      valeur_fonciere  adresse_numero adresse_suffixe     adresse_nom_voie  \\\n",
       "0            170000.0             6.0            None       PL DE L EGLISE   \n",
       "1            170000.0            37.0            None         RUE GAMBETTA   \n",
       "2            107000.0            39.0            None         RUE GAMBETTA   \n",
       "3            107000.0            39.0            None         RUE GAMBETTA   \n",
       "4            107000.0            37.0            None         RUE GAMBETTA   \n",
       "...               ...             ...             ...                  ...   \n",
       "2967          65000.0             4.0            None  RUE DE FORT DE VAUX   \n",
       "2968         181400.0            19.0            None      RUE DE LORRAINE   \n",
       "2969         181400.0            19.0            None      RUE DE LORRAINE   \n",
       "2970         199000.0            29.0            None      CHE DU BON CLOS   \n",
       "2971         196500.0             2.0            None       RUE EMILE ZOLA   \n",
       "\n",
       "     adresse_code_voie code_postal  ...  nombre_pieces_principales  \\\n",
       "0                  730       76800  ...                        4.0   \n",
       "1                  974       76800  ...                        NaN   \n",
       "2                  974       76800  ...                        4.0   \n",
       "3                  974       76800  ...                        0.0   \n",
       "4                  974       76800  ...                        NaN   \n",
       "...                ...         ...  ...                        ...   \n",
       "2967               910       76800  ...                        2.0   \n",
       "2968              1510       76800  ...                        6.0   \n",
       "2969              1510       76800  ...                        NaN   \n",
       "2970               300       76800  ...                        5.0   \n",
       "2971               750       76800  ...                        5.0   \n",
       "\n",
       "     code_nature_culture  nature_culture code_nature_culture_speciale  \\\n",
       "0                      S            sols                         None   \n",
       "1                      S            sols                         None   \n",
       "2                      S            sols                         None   \n",
       "3                      S            sols                         None   \n",
       "4                      S            sols                         None   \n",
       "...                  ...             ...                          ...   \n",
       "2967                   S            sols                         None   \n",
       "2968                   S            sols                         None   \n",
       "2969                   J         jardins                        POTAG   \n",
       "2970                   S            sols                         None   \n",
       "2971                   S            sols                         None   \n",
       "\n",
       "     nature_culture_speciale surface_terrain longitude   latitude  \\\n",
       "0                       None           319.0  1.106595  49.382037   \n",
       "1                       None           234.0  1.106238  49.382039   \n",
       "2                       None            38.0  1.106127  49.382122   \n",
       "3                       None            38.0  1.106127  49.382122   \n",
       "4                       None           234.0  1.106238  49.382039   \n",
       "...                      ...             ...       ...        ...   \n",
       "2967                    None           268.0  1.107607  49.374767   \n",
       "2968                    None           401.0  1.100599  49.373885   \n",
       "2969          Jardin potager            89.0  1.100471  49.373929   \n",
       "2970                    None           362.0  1.100397  49.374971   \n",
       "2971                    None           714.0  1.100223  49.373475   \n",
       "\n",
       "     section_prefixe cadastre  \n",
       "0              000AZ       AZ  \n",
       "1              000AZ       AZ  \n",
       "2              000AZ       AZ  \n",
       "3              000AZ       AZ  \n",
       "4              000AZ       AZ  \n",
       "...              ...      ...  \n",
       "2967           000AT       AT  \n",
       "2968           000AT       AT  \n",
       "2969           000AT       AT  \n",
       "2970           000AT       AT  \n",
       "2971           000AT       AT  \n",
       "\n",
       "[2972 rows x 42 columns]"
      ]
     },
     "execution_count": 5,
     "metadata": {},
     "output_type": "execute_result"
    }
   ],
   "source": [
    "import_csv()"
   ]
  },
  {
   "cell_type": "code",
   "execution_count": 38,
   "metadata": {},
   "outputs": [
    {
     "data": {
      "application/vnd.plotly.v1+json": {
       "config": {
        "plotlyServerURL": "https://plot.ly"
       },
       "data": [
        {
         "hovertemplate": "date_mutation=%{x}<br>prix_metre_carre=%{y}<extra></extra>",
         "legendgroup": "",
         "line": {
          "color": "#636efa",
          "dash": "solid"
         },
         "marker": {
          "symbol": "circle"
         },
         "mode": "lines",
         "name": "",
         "orientation": "v",
         "showlegend": false,
         "type": "scatter",
         "x": [
          "2018-04-16/2018-04-22",
          "2018-07-02/2018-07-08",
          "2018-07-23/2018-07-29",
          "2018-09-17/2018-09-23",
          "2018-10-15/2018-10-21",
          "2019-06-10/2019-06-16",
          "2019-08-26/2019-09-01",
          "2021-01-11/2021-01-17",
          "2021-05-10/2021-05-16",
          "2022-04-18/2022-04-24"
         ],
         "xaxis": "x",
         "y": [
          2031.25,
          2086.206896551724,
          1623.3766233766235,
          2125,
          2296.875,
          2540.5405405405404,
          1666.6666666666667,
          2718.75,
          2500,
          2015.5038759689924
         ],
         "yaxis": "y"
        }
       ],
       "layout": {
        "legend": {
         "tracegroupgap": 0
        },
        "template": {
         "data": {
          "bar": [
           {
            "error_x": {
             "color": "#2a3f5f"
            },
            "error_y": {
             "color": "#2a3f5f"
            },
            "marker": {
             "line": {
              "color": "#E5ECF6",
              "width": 0.5
             },
             "pattern": {
              "fillmode": "overlay",
              "size": 10,
              "solidity": 0.2
             }
            },
            "type": "bar"
           }
          ],
          "barpolar": [
           {
            "marker": {
             "line": {
              "color": "#E5ECF6",
              "width": 0.5
             },
             "pattern": {
              "fillmode": "overlay",
              "size": 10,
              "solidity": 0.2
             }
            },
            "type": "barpolar"
           }
          ],
          "carpet": [
           {
            "aaxis": {
             "endlinecolor": "#2a3f5f",
             "gridcolor": "white",
             "linecolor": "white",
             "minorgridcolor": "white",
             "startlinecolor": "#2a3f5f"
            },
            "baxis": {
             "endlinecolor": "#2a3f5f",
             "gridcolor": "white",
             "linecolor": "white",
             "minorgridcolor": "white",
             "startlinecolor": "#2a3f5f"
            },
            "type": "carpet"
           }
          ],
          "choropleth": [
           {
            "colorbar": {
             "outlinewidth": 0,
             "ticks": ""
            },
            "type": "choropleth"
           }
          ],
          "contour": [
           {
            "colorbar": {
             "outlinewidth": 0,
             "ticks": ""
            },
            "colorscale": [
             [
              0,
              "#0d0887"
             ],
             [
              0.1111111111111111,
              "#46039f"
             ],
             [
              0.2222222222222222,
              "#7201a8"
             ],
             [
              0.3333333333333333,
              "#9c179e"
             ],
             [
              0.4444444444444444,
              "#bd3786"
             ],
             [
              0.5555555555555556,
              "#d8576b"
             ],
             [
              0.6666666666666666,
              "#ed7953"
             ],
             [
              0.7777777777777778,
              "#fb9f3a"
             ],
             [
              0.8888888888888888,
              "#fdca26"
             ],
             [
              1,
              "#f0f921"
             ]
            ],
            "type": "contour"
           }
          ],
          "contourcarpet": [
           {
            "colorbar": {
             "outlinewidth": 0,
             "ticks": ""
            },
            "type": "contourcarpet"
           }
          ],
          "heatmap": [
           {
            "colorbar": {
             "outlinewidth": 0,
             "ticks": ""
            },
            "colorscale": [
             [
              0,
              "#0d0887"
             ],
             [
              0.1111111111111111,
              "#46039f"
             ],
             [
              0.2222222222222222,
              "#7201a8"
             ],
             [
              0.3333333333333333,
              "#9c179e"
             ],
             [
              0.4444444444444444,
              "#bd3786"
             ],
             [
              0.5555555555555556,
              "#d8576b"
             ],
             [
              0.6666666666666666,
              "#ed7953"
             ],
             [
              0.7777777777777778,
              "#fb9f3a"
             ],
             [
              0.8888888888888888,
              "#fdca26"
             ],
             [
              1,
              "#f0f921"
             ]
            ],
            "type": "heatmap"
           }
          ],
          "heatmapgl": [
           {
            "colorbar": {
             "outlinewidth": 0,
             "ticks": ""
            },
            "colorscale": [
             [
              0,
              "#0d0887"
             ],
             [
              0.1111111111111111,
              "#46039f"
             ],
             [
              0.2222222222222222,
              "#7201a8"
             ],
             [
              0.3333333333333333,
              "#9c179e"
             ],
             [
              0.4444444444444444,
              "#bd3786"
             ],
             [
              0.5555555555555556,
              "#d8576b"
             ],
             [
              0.6666666666666666,
              "#ed7953"
             ],
             [
              0.7777777777777778,
              "#fb9f3a"
             ],
             [
              0.8888888888888888,
              "#fdca26"
             ],
             [
              1,
              "#f0f921"
             ]
            ],
            "type": "heatmapgl"
           }
          ],
          "histogram": [
           {
            "marker": {
             "pattern": {
              "fillmode": "overlay",
              "size": 10,
              "solidity": 0.2
             }
            },
            "type": "histogram"
           }
          ],
          "histogram2d": [
           {
            "colorbar": {
             "outlinewidth": 0,
             "ticks": ""
            },
            "colorscale": [
             [
              0,
              "#0d0887"
             ],
             [
              0.1111111111111111,
              "#46039f"
             ],
             [
              0.2222222222222222,
              "#7201a8"
             ],
             [
              0.3333333333333333,
              "#9c179e"
             ],
             [
              0.4444444444444444,
              "#bd3786"
             ],
             [
              0.5555555555555556,
              "#d8576b"
             ],
             [
              0.6666666666666666,
              "#ed7953"
             ],
             [
              0.7777777777777778,
              "#fb9f3a"
             ],
             [
              0.8888888888888888,
              "#fdca26"
             ],
             [
              1,
              "#f0f921"
             ]
            ],
            "type": "histogram2d"
           }
          ],
          "histogram2dcontour": [
           {
            "colorbar": {
             "outlinewidth": 0,
             "ticks": ""
            },
            "colorscale": [
             [
              0,
              "#0d0887"
             ],
             [
              0.1111111111111111,
              "#46039f"
             ],
             [
              0.2222222222222222,
              "#7201a8"
             ],
             [
              0.3333333333333333,
              "#9c179e"
             ],
             [
              0.4444444444444444,
              "#bd3786"
             ],
             [
              0.5555555555555556,
              "#d8576b"
             ],
             [
              0.6666666666666666,
              "#ed7953"
             ],
             [
              0.7777777777777778,
              "#fb9f3a"
             ],
             [
              0.8888888888888888,
              "#fdca26"
             ],
             [
              1,
              "#f0f921"
             ]
            ],
            "type": "histogram2dcontour"
           }
          ],
          "mesh3d": [
           {
            "colorbar": {
             "outlinewidth": 0,
             "ticks": ""
            },
            "type": "mesh3d"
           }
          ],
          "parcoords": [
           {
            "line": {
             "colorbar": {
              "outlinewidth": 0,
              "ticks": ""
             }
            },
            "type": "parcoords"
           }
          ],
          "pie": [
           {
            "automargin": true,
            "type": "pie"
           }
          ],
          "scatter": [
           {
            "marker": {
             "colorbar": {
              "outlinewidth": 0,
              "ticks": ""
             }
            },
            "type": "scatter"
           }
          ],
          "scatter3d": [
           {
            "line": {
             "colorbar": {
              "outlinewidth": 0,
              "ticks": ""
             }
            },
            "marker": {
             "colorbar": {
              "outlinewidth": 0,
              "ticks": ""
             }
            },
            "type": "scatter3d"
           }
          ],
          "scattercarpet": [
           {
            "marker": {
             "colorbar": {
              "outlinewidth": 0,
              "ticks": ""
             }
            },
            "type": "scattercarpet"
           }
          ],
          "scattergeo": [
           {
            "marker": {
             "colorbar": {
              "outlinewidth": 0,
              "ticks": ""
             }
            },
            "type": "scattergeo"
           }
          ],
          "scattergl": [
           {
            "marker": {
             "colorbar": {
              "outlinewidth": 0,
              "ticks": ""
             }
            },
            "type": "scattergl"
           }
          ],
          "scattermapbox": [
           {
            "marker": {
             "colorbar": {
              "outlinewidth": 0,
              "ticks": ""
             }
            },
            "type": "scattermapbox"
           }
          ],
          "scatterpolar": [
           {
            "marker": {
             "colorbar": {
              "outlinewidth": 0,
              "ticks": ""
             }
            },
            "type": "scatterpolar"
           }
          ],
          "scatterpolargl": [
           {
            "marker": {
             "colorbar": {
              "outlinewidth": 0,
              "ticks": ""
             }
            },
            "type": "scatterpolargl"
           }
          ],
          "scatterternary": [
           {
            "marker": {
             "colorbar": {
              "outlinewidth": 0,
              "ticks": ""
             }
            },
            "type": "scatterternary"
           }
          ],
          "surface": [
           {
            "colorbar": {
             "outlinewidth": 0,
             "ticks": ""
            },
            "colorscale": [
             [
              0,
              "#0d0887"
             ],
             [
              0.1111111111111111,
              "#46039f"
             ],
             [
              0.2222222222222222,
              "#7201a8"
             ],
             [
              0.3333333333333333,
              "#9c179e"
             ],
             [
              0.4444444444444444,
              "#bd3786"
             ],
             [
              0.5555555555555556,
              "#d8576b"
             ],
             [
              0.6666666666666666,
              "#ed7953"
             ],
             [
              0.7777777777777778,
              "#fb9f3a"
             ],
             [
              0.8888888888888888,
              "#fdca26"
             ],
             [
              1,
              "#f0f921"
             ]
            ],
            "type": "surface"
           }
          ],
          "table": [
           {
            "cells": {
             "fill": {
              "color": "#EBF0F8"
             },
             "line": {
              "color": "white"
             }
            },
            "header": {
             "fill": {
              "color": "#C8D4E3"
             },
             "line": {
              "color": "white"
             }
            },
            "type": "table"
           }
          ]
         },
         "layout": {
          "annotationdefaults": {
           "arrowcolor": "#2a3f5f",
           "arrowhead": 0,
           "arrowwidth": 1
          },
          "autotypenumbers": "strict",
          "coloraxis": {
           "colorbar": {
            "outlinewidth": 0,
            "ticks": ""
           }
          },
          "colorscale": {
           "diverging": [
            [
             0,
             "#8e0152"
            ],
            [
             0.1,
             "#c51b7d"
            ],
            [
             0.2,
             "#de77ae"
            ],
            [
             0.3,
             "#f1b6da"
            ],
            [
             0.4,
             "#fde0ef"
            ],
            [
             0.5,
             "#f7f7f7"
            ],
            [
             0.6,
             "#e6f5d0"
            ],
            [
             0.7,
             "#b8e186"
            ],
            [
             0.8,
             "#7fbc41"
            ],
            [
             0.9,
             "#4d9221"
            ],
            [
             1,
             "#276419"
            ]
           ],
           "sequential": [
            [
             0,
             "#0d0887"
            ],
            [
             0.1111111111111111,
             "#46039f"
            ],
            [
             0.2222222222222222,
             "#7201a8"
            ],
            [
             0.3333333333333333,
             "#9c179e"
            ],
            [
             0.4444444444444444,
             "#bd3786"
            ],
            [
             0.5555555555555556,
             "#d8576b"
            ],
            [
             0.6666666666666666,
             "#ed7953"
            ],
            [
             0.7777777777777778,
             "#fb9f3a"
            ],
            [
             0.8888888888888888,
             "#fdca26"
            ],
            [
             1,
             "#f0f921"
            ]
           ],
           "sequentialminus": [
            [
             0,
             "#0d0887"
            ],
            [
             0.1111111111111111,
             "#46039f"
            ],
            [
             0.2222222222222222,
             "#7201a8"
            ],
            [
             0.3333333333333333,
             "#9c179e"
            ],
            [
             0.4444444444444444,
             "#bd3786"
            ],
            [
             0.5555555555555556,
             "#d8576b"
            ],
            [
             0.6666666666666666,
             "#ed7953"
            ],
            [
             0.7777777777777778,
             "#fb9f3a"
            ],
            [
             0.8888888888888888,
             "#fdca26"
            ],
            [
             1,
             "#f0f921"
            ]
           ]
          },
          "colorway": [
           "#636efa",
           "#EF553B",
           "#00cc96",
           "#ab63fa",
           "#FFA15A",
           "#19d3f3",
           "#FF6692",
           "#B6E880",
           "#FF97FF",
           "#FECB52"
          ],
          "font": {
           "color": "#2a3f5f"
          },
          "geo": {
           "bgcolor": "white",
           "lakecolor": "white",
           "landcolor": "#E5ECF6",
           "showlakes": true,
           "showland": true,
           "subunitcolor": "white"
          },
          "hoverlabel": {
           "align": "left"
          },
          "hovermode": "closest",
          "mapbox": {
           "style": "light"
          },
          "paper_bgcolor": "white",
          "plot_bgcolor": "#E5ECF6",
          "polar": {
           "angularaxis": {
            "gridcolor": "white",
            "linecolor": "white",
            "ticks": ""
           },
           "bgcolor": "#E5ECF6",
           "radialaxis": {
            "gridcolor": "white",
            "linecolor": "white",
            "ticks": ""
           }
          },
          "scene": {
           "xaxis": {
            "backgroundcolor": "#E5ECF6",
            "gridcolor": "white",
            "gridwidth": 2,
            "linecolor": "white",
            "showbackground": true,
            "ticks": "",
            "zerolinecolor": "white"
           },
           "yaxis": {
            "backgroundcolor": "#E5ECF6",
            "gridcolor": "white",
            "gridwidth": 2,
            "linecolor": "white",
            "showbackground": true,
            "ticks": "",
            "zerolinecolor": "white"
           },
           "zaxis": {
            "backgroundcolor": "#E5ECF6",
            "gridcolor": "white",
            "gridwidth": 2,
            "linecolor": "white",
            "showbackground": true,
            "ticks": "",
            "zerolinecolor": "white"
           }
          },
          "shapedefaults": {
           "line": {
            "color": "#2a3f5f"
           }
          },
          "ternary": {
           "aaxis": {
            "gridcolor": "white",
            "linecolor": "white",
            "ticks": ""
           },
           "baxis": {
            "gridcolor": "white",
            "linecolor": "white",
            "ticks": ""
           },
           "bgcolor": "#E5ECF6",
           "caxis": {
            "gridcolor": "white",
            "linecolor": "white",
            "ticks": ""
           }
          },
          "title": {
           "x": 0.05
          },
          "xaxis": {
           "automargin": true,
           "gridcolor": "white",
           "linecolor": "white",
           "ticks": "",
           "title": {
            "standoff": 15
           },
           "zerolinecolor": "white",
           "zerolinewidth": 2
          },
          "yaxis": {
           "automargin": true,
           "gridcolor": "white",
           "linecolor": "white",
           "ticks": "",
           "title": {
            "standoff": 15
           },
           "zerolinecolor": "white",
           "zerolinewidth": 2
          }
         }
        },
        "title": {
         "text": "Prix au m²"
        },
        "xaxis": {
         "anchor": "y",
         "domain": [
          0,
          1
         ],
         "title": {
          "text": "date_mutation"
         }
        },
        "yaxis": {
         "anchor": "x",
         "domain": [
          0,
          1
         ],
         "title": {
          "text": "prix_metre_carre"
         }
        }
       }
      }
     },
     "metadata": {},
     "output_type": "display_data"
    },
    {
     "data": {
      "image/png": "[encoded data removed]",
      "text/plain": [
       "<Figure size 432x288 with 1 Axes>"
      ]
     },
     "metadata": {
      "needs_background": "light"
     },
     "output_type": "display_data"
    }
   ],
   "source": [
    "ds = pd.read_pickle('transaction_ser.pkl')\n",
    "#uniquement les types 'sols'\n",
    "ds = ds[ds['code_nature_culture'] == 'S']\n",
    "\n",
    "ds = ds[ds['cadastre'] == 'AB']\n",
    "\n",
    "#supprimer les colonnes inutiles (garder valeur foncière, surface, terrain, pièces)\n",
    "ds = ds[['date_mutation','valeur_fonciere', 'surface_reelle_bati', 'surface_terrain', 'nombre_pieces_principales']]\n",
    "ds = ds.dropna()\n",
    "\n",
    "\n",
    "#supprimer les lignes avec valeur foncière > 2 000 000\n",
    "ds = ds[ds['valeur_fonciere'] <= 500000]\n",
    "ds = ds[ds['valeur_fonciere'] >= 5000]\n",
    "#supprimer les lignes avec surface terrain > 25000\n",
    "ds = ds[ds['surface_terrain'] < 25000]\n",
    "\n",
    "#supprimer les lignes avec surface bati > 1000\n",
    "ds = ds[ds['surface_reelle_bati'] < 1000]\n",
    "\n",
    "#supprimer les lignes avec nombre de pièces > 10\n",
    "ds = ds[ds['nombre_pieces_principales'] < 10]\n",
    "ds = ds[ds['nombre_pieces_principales'] != 0]\n",
    "\n",
    "ds = ds.dropna()\n",
    "\n",
    "ds['prix_metre_carre'] = ds['valeur_fonciere'] / ds['surface_reelle_bati']\n",
    "ds['prix_metre_carre_terrain'] = ds['valeur_fonciere'] / ds['surface_terrain']\n",
    "\n",
    "#regrouper par mois et calculer la moyenne du prix au m²\n",
    "ds = ds[['date_mutation', 'prix_metre_carre', 'prix_metre_carre_terrain']]\n",
    "#supprimer les valeurs trop hautes :\n",
    "ds = ds[ds['prix_metre_carre'] < 3500]\n",
    "ds = ds[ds['prix_metre_carre'] > 1000]\n",
    "\n",
    "ds = ds.groupby(['date_mutation']).mean()\n",
    "ds = ds.reset_index()\n",
    "\n",
    "#groupby month :\n",
    "ds['date_mutation'] = pd.to_datetime(ds['date_mutation'])\n",
    "ds['date_mutation'] = ds['date_mutation'].dt.to_period('w')\n",
    "\n",
    "ds = ds.groupby(['date_mutation']).mean()\n",
    "ds = ds.reset_index()\n",
    "\n",
    "#date mutation en string\n",
    "ds['date_mutation'] = ds['date_mutation'].astype(str)\n",
    "\n",
    "#afficher avec plotly\n",
    "import plotly.express as px\n",
    "fig = px.line(ds, x='date_mutation', y='prix_metre_carre', title='Prix au m²')\n",
    "fig.show()\n",
    "\n",
    "#on crée une nouvelle colonne avec des ints allant de 1 à len(ds)\n",
    "ds['date_mutation_int'] = range(0, len(ds))\n",
    "\n",
    "#obtenir une approximation polynomiale de degré 3 de la fonction avec 'date_mutation_int' en x et 'prix_metre_carre' en y\n",
    "from sklearn.preprocessing import PolynomialFeatures\n",
    "from sklearn.linear_model import LinearRegression\n",
    "from sklearn.pipeline import make_pipeline\n",
    "\n",
    "model = make_pipeline(PolynomialFeatures(2), LinearRegression())\n",
    "model.fit(ds['date_mutation_int'].values.reshape(-1, 1), ds['prix_metre_carre'].values.reshape(-1, 1))\n",
    "\n",
    "#afficher l'approximation polynomiale\n",
    "import matplotlib.pyplot as plt\n",
    "import numpy as np\n",
    "\n",
    "x_plot = np.linspace(1, len(ds), 100)\n",
    "plt.scatter(ds['date_mutation_int'], ds['prix_metre_carre'])\n",
    "plt.plot(x_plot, model.predict(x_plot[:, np.newaxis]), color='red')\n",
    "plt.show()"
   ]
  },
  {
   "cell_type": "code",
   "execution_count": 41,
   "metadata": {},
   "outputs": [],
   "source": [
    "ds = pd.read_pickle('transaction_ser.pkl')\n",
    "#uniquement les types 'sols'\n",
    "ds = ds[ds['code_nature_culture'] == 'S']\n",
    "\n",
    "\n",
    "#supprimer les colonnes inutiles (garder valeur foncière, surface, terrain, pièces)\n",
    "ds = ds[['cadastre','date_mutation','valeur_fonciere', 'surface_reelle_bati', 'surface_terrain', 'nombre_pieces_principales']]\n",
    "ds = ds.dropna()\n",
    "\n",
    "\n",
    "#supprimer les lignes avec valeur foncière > 2 000 000\n",
    "ds = ds[ds['valeur_fonciere'] <= 500000]\n",
    "ds = ds[ds['valeur_fonciere'] >= 5000]\n",
    "#supprimer les lignes avec surface terrain > 25000\n",
    "ds = ds[ds['surface_terrain'] < 25000]\n",
    "\n",
    "#supprimer les lignes avec surface bati > 1000\n",
    "ds = ds[ds['surface_reelle_bati'] < 1000]\n",
    "\n",
    "#supprimer les lignes avec nombre de pièces > 10\n",
    "ds = ds[ds['nombre_pieces_principales'] < 10]\n",
    "ds = ds[ds['nombre_pieces_principales'] != 0]\n",
    "\n",
    "ds = ds.dropna()\n",
    "\n",
    "ds['prix_metre_carre'] = ds['valeur_fonciere'] / ds['surface_reelle_bati']\n",
    "ds['prix_metre_carre_terrain'] = ds['valeur_fonciere'] / ds['surface_terrain']\n",
    "\n",
    "#regrouper par mois et calculer la moyenne du prix au m²\n",
    "ds = ds[['cadastre', 'prix_metre_carre', 'prix_metre_carre_terrain']]\n",
    "#supprimer les valeurs trop hautes :\n",
    "ds = ds[ds['prix_metre_carre'] < 3500]\n",
    "ds = ds[ds['prix_metre_carre'] > 1000]\n",
    "\n",
    "ds = ds.groupby(['cadastre']).mean()\n",
    "ds = ds.reset_index()\n"
   ]
  },
  {
   "cell_type": "code",
   "execution_count": 43,
   "metadata": {},
   "outputs": [
    {
     "data": {
      "application/vnd.plotly.v1+json": {
       "config": {
        "plotlyServerURL": "https://plot.ly"
       },
       "data": [
        {
         "hovertemplate": "cadastre=%{x}<br>prix_metre_carre=%{y}<extra></extra>",
         "legendgroup": "",
         "marker": {
          "color": "#636efa",
          "symbol": "circle"
         },
         "mode": "markers",
         "name": "",
         "orientation": "v",
         "showlegend": false,
         "type": "scatter",
         "x": [
          "AB",
          "AC",
          "AD",
          "AE",
          "AI",
          "AK",
          "AO",
          "AP",
          "AR",
          "AS",
          "AT",
          "AV",
          "AW",
          "AX",
          "AY",
          "AZ",
          "BC",
          "BD",
          "BE",
          "BH",
          "BK",
          "BL",
          "BM",
          "BO",
          "BP",
          "BR",
          "BS",
          "BT",
          "BV"
         ],
         "xaxis": "x",
         "y": [
          2160.4169603104547,
          2157.045641566677,
          2102.271313990811,
          1968.320918432601,
          1329.675543311907,
          2074.30623895168,
          1944.752913297556,
          1989.4571097817065,
          1860.9405558461467,
          1785.164217824096,
          2047.9708778910874,
          1465.625,
          1952.5562703408352,
          1717.5442066274404,
          1724.9341196436583,
          1828.0903034239354,
          1931.077326833797,
          1777.2594753728986,
          2238.2003846783255,
          2065.6592763136746,
          2092.7092224828493,
          1913.8346356685831,
          1688.256576798181,
          2234.6876532972037,
          2277.8996402090715,
          1776.8016957136126,
          2223.29547877164,
          2063.528684620415,
          2055.838888138093
         ],
         "yaxis": "y"
        }
       ],
       "layout": {
        "legend": {
         "tracegroupgap": 0
        },
        "shapes": [
         {
          "type": "line",
          "x0": 0,
          "x1": 1,
          "xref": "x domain",
          "y0": 1946.4869355220321,
          "y1": 1946.4869355220321,
          "yref": "y"
         }
        ],
        "template": {
         "data": {
          "bar": [
           {
            "error_x": {
             "color": "#2a3f5f"
            },
            "error_y": {
             "color": "#2a3f5f"
            },
            "marker": {
             "line": {
              "color": "#E5ECF6",
              "width": 0.5
             },
             "pattern": {
              "fillmode": "overlay",
              "size": 10,
              "solidity": 0.2
             }
            },
            "type": "bar"
           }
          ],
          "barpolar": [
           {
            "marker": {
             "line": {
              "color": "#E5ECF6",
              "width": 0.5
             },
             "pattern": {
              "fillmode": "overlay",
              "size": 10,
              "solidity": 0.2
             }
            },
            "type": "barpolar"
           }
          ],
          "carpet": [
           {
            "aaxis": {
             "endlinecolor": "#2a3f5f",
             "gridcolor": "white",
             "linecolor": "white",
             "minorgridcolor": "white",
             "startlinecolor": "#2a3f5f"
            },
            "baxis": {
             "endlinecolor": "#2a3f5f",
             "gridcolor": "white",
             "linecolor": "white",
             "minorgridcolor": "white",
             "startlinecolor": "#2a3f5f"
            },
            "type": "carpet"
           }
          ],
          "choropleth": [
           {
            "colorbar": {
             "outlinewidth": 0,
             "ticks": ""
            },
            "type": "choropleth"
           }
          ],
          "contour": [
           {
            "colorbar": {
             "outlinewidth": 0,
             "ticks": ""
            },
            "colorscale": [
             [
              0,
              "#0d0887"
             ],
             [
              0.1111111111111111,
              "#46039f"
             ],
             [
              0.2222222222222222,
              "#7201a8"
             ],
             [
              0.3333333333333333,
              "#9c179e"
             ],
             [
              0.4444444444444444,
              "#bd3786"
             ],
             [
              0.5555555555555556,
              "#d8576b"
             ],
             [
              0.6666666666666666,
              "#ed7953"
             ],
             [
              0.7777777777777778,
              "#fb9f3a"
             ],
             [
              0.8888888888888888,
              "#fdca26"
             ],
             [
              1,
              "#f0f921"
             ]
            ],
            "type": "contour"
           }
          ],
          "contourcarpet": [
           {
            "colorbar": {
             "outlinewidth": 0,
             "ticks": ""
            },
            "type": "contourcarpet"
           }
          ],
          "heatmap": [
           {
            "colorbar": {
             "outlinewidth": 0,
             "ticks": ""
            },
            "colorscale": [
             [
              0,
              "#0d0887"
             ],
             [
              0.1111111111111111,
              "#46039f"
             ],
             [
              0.2222222222222222,
              "#7201a8"
             ],
             [
              0.3333333333333333,
              "#9c179e"
             ],
             [
              0.4444444444444444,
              "#bd3786"
             ],
             [
              0.5555555555555556,
              "#d8576b"
             ],
             [
              0.6666666666666666,
              "#ed7953"
             ],
             [
              0.7777777777777778,
              "#fb9f3a"
             ],
             [
              0.8888888888888888,
              "#fdca26"
             ],
             [
              1,
              "#f0f921"
             ]
            ],
            "type": "heatmap"
           }
          ],
          "heatmapgl": [
           {
            "colorbar": {
             "outlinewidth": 0,
             "ticks": ""
            },
            "colorscale": [
             [
              0,
              "#0d0887"
             ],
             [
              0.1111111111111111,
              "#46039f"
             ],
             [
              0.2222222222222222,
              "#7201a8"
             ],
             [
              0.3333333333333333,
              "#9c179e"
             ],
             [
              0.4444444444444444,
              "#bd3786"
             ],
             [
              0.5555555555555556,
              "#d8576b"
             ],
             [
              0.6666666666666666,
              "#ed7953"
             ],
             [
              0.7777777777777778,
              "#fb9f3a"
             ],
             [
              0.8888888888888888,
              "#fdca26"
             ],
             [
              1,
              "#f0f921"
             ]
            ],
            "type": "heatmapgl"
           }
          ],
          "histogram": [
           {
            "marker": {
             "pattern": {
              "fillmode": "overlay",
              "size": 10,
              "solidity": 0.2
             }
            },
            "type": "histogram"
           }
          ],
          "histogram2d": [
           {
            "colorbar": {
             "outlinewidth": 0,
             "ticks": ""
            },
            "colorscale": [
             [
              0,
              "#0d0887"
             ],
             [
              0.1111111111111111,
              "#46039f"
             ],
             [
              0.2222222222222222,
              "#7201a8"
             ],
             [
              0.3333333333333333,
              "#9c179e"
             ],
             [
              0.4444444444444444,
              "#bd3786"
             ],
             [
              0.5555555555555556,
              "#d8576b"
             ],
             [
              0.6666666666666666,
              "#ed7953"
             ],
             [
              0.7777777777777778,
              "#fb9f3a"
             ],
             [
              0.8888888888888888,
              "#fdca26"
             ],
             [
              1,
              "#f0f921"
             ]
            ],
            "type": "histogram2d"
           }
          ],
          "histogram2dcontour": [
           {
            "colorbar": {
             "outlinewidth": 0,
             "ticks": ""
            },
            "colorscale": [
             [
              0,
              "#0d0887"
             ],
             [
              0.1111111111111111,
              "#46039f"
             ],
             [
              0.2222222222222222,
              "#7201a8"
             ],
             [
              0.3333333333333333,
              "#9c179e"
             ],
             [
              0.4444444444444444,
              "#bd3786"
             ],
             [
              0.5555555555555556,
              "#d8576b"
             ],
             [
              0.6666666666666666,
              "#ed7953"
             ],
             [
              0.7777777777777778,
              "#fb9f3a"
             ],
             [
              0.8888888888888888,
              "#fdca26"
             ],
             [
              1,
              "#f0f921"
             ]
            ],
            "type": "histogram2dcontour"
           }
          ],
          "mesh3d": [
           {
            "colorbar": {
             "outlinewidth": 0,
             "ticks": ""
            },
            "type": "mesh3d"
           }
          ],
          "parcoords": [
           {
            "line": {
             "colorbar": {
              "outlinewidth": 0,
              "ticks": ""
             }
            },
            "type": "parcoords"
           }
          ],
          "pie": [
           {
            "automargin": true,
            "type": "pie"
           }
          ],
          "scatter": [
           {
            "marker": {
             "colorbar": {
              "outlinewidth": 0,
              "ticks": ""
             }
            },
            "type": "scatter"
           }
          ],
          "scatter3d": [
           {
            "line": {
             "colorbar": {
              "outlinewidth": 0,
              "ticks": ""
             }
            },
            "marker": {
             "colorbar": {
              "outlinewidth": 0,
              "ticks": ""
             }
            },
            "type": "scatter3d"
           }
          ],
          "scattercarpet": [
           {
            "marker": {
             "colorbar": {
              "outlinewidth": 0,
              "ticks": ""
             }
            },
            "type": "scattercarpet"
           }
          ],
          "scattergeo": [
           {
            "marker": {
             "colorbar": {
              "outlinewidth": 0,
              "ticks": ""
             }
            },
            "type": "scattergeo"
           }
          ],
          "scattergl": [
           {
            "marker": {
             "colorbar": {
              "outlinewidth": 0,
              "ticks": ""
             }
            },
            "type": "scattergl"
           }
          ],
          "scattermapbox": [
           {
            "marker": {
             "colorbar": {
              "outlinewidth": 0,
              "ticks": ""
             }
            },
            "type": "scattermapbox"
           }
          ],
          "scatterpolar": [
           {
            "marker": {
             "colorbar": {
              "outlinewidth": 0,
              "ticks": ""
             }
            },
            "type": "scatterpolar"
           }
          ],
          "scatterpolargl": [
           {
            "marker": {
             "colorbar": {
              "outlinewidth": 0,
              "ticks": ""
             }
            },
            "type": "scatterpolargl"
           }
          ],
          "scatterternary": [
           {
            "marker": {
             "colorbar": {
              "outlinewidth": 0,
              "ticks": ""
             }
            },
            "type": "scatterternary"
           }
          ],
          "surface": [
           {
            "colorbar": {
             "outlinewidth": 0,
             "ticks": ""
            },
            "colorscale": [
             [
              0,
              "#0d0887"
             ],
             [
              0.1111111111111111,
              "#46039f"
             ],
             [
              0.2222222222222222,
              "#7201a8"
             ],
             [
              0.3333333333333333,
              "#9c179e"
             ],
             [
              0.4444444444444444,
              "#bd3786"
             ],
             [
              0.5555555555555556,
              "#d8576b"
             ],
             [
              0.6666666666666666,
              "#ed7953"
             ],
             [
              0.7777777777777778,
              "#fb9f3a"
             ],
             [
              0.8888888888888888,
              "#fdca26"
             ],
             [
              1,
              "#f0f921"
             ]
            ],
            "type": "surface"
           }
          ],
          "table": [
           {
            "cells": {
             "fill": {
              "color": "#EBF0F8"
             },
             "line": {
              "color": "white"
             }
            },
            "header": {
             "fill": {
              "color": "#C8D4E3"
             },
             "line": {
              "color": "white"
             }
            },
            "type": "table"
           }
          ]
         },
         "layout": {
          "annotationdefaults": {
           "arrowcolor": "#2a3f5f",
           "arrowhead": 0,
           "arrowwidth": 1
          },
          "autotypenumbers": "strict",
          "coloraxis": {
           "colorbar": {
            "outlinewidth": 0,
            "ticks": ""
           }
          },
          "colorscale": {
           "diverging": [
            [
             0,
             "#8e0152"
            ],
            [
             0.1,
             "#c51b7d"
            ],
            [
             0.2,
             "#de77ae"
            ],
            [
             0.3,
             "#f1b6da"
            ],
            [
             0.4,
             "#fde0ef"
            ],
            [
             0.5,
             "#f7f7f7"
            ],
            [
             0.6,
             "#e6f5d0"
            ],
            [
             0.7,
             "#b8e186"
            ],
            [
             0.8,
             "#7fbc41"
            ],
            [
             0.9,
             "#4d9221"
            ],
            [
             1,
             "#276419"
            ]
           ],
           "sequential": [
            [
             0,
             "#0d0887"
            ],
            [
             0.1111111111111111,
             "#46039f"
            ],
            [
             0.2222222222222222,
             "#7201a8"
            ],
            [
             0.3333333333333333,
             "#9c179e"
            ],
            [
             0.4444444444444444,
             "#bd3786"
            ],
            [
             0.5555555555555556,
             "#d8576b"
            ],
            [
             0.6666666666666666,
             "#ed7953"
            ],
            [
             0.7777777777777778,
             "#fb9f3a"
            ],
            [
             0.8888888888888888,
             "#fdca26"
            ],
            [
             1,
             "#f0f921"
            ]
           ],
           "sequentialminus": [
            [
             0,
             "#0d0887"
            ],
            [
             0.1111111111111111,
             "#46039f"
            ],
            [
             0.2222222222222222,
             "#7201a8"
            ],
            [
             0.3333333333333333,
             "#9c179e"
            ],
            [
             0.4444444444444444,
             "#bd3786"
            ],
            [
             0.5555555555555556,
             "#d8576b"
            ],
            [
             0.6666666666666666,
             "#ed7953"
            ],
            [
             0.7777777777777778,
             "#fb9f3a"
            ],
            [
             0.8888888888888888,
             "#fdca26"
            ],
            [
             1,
             "#f0f921"
            ]
           ]
          },
          "colorway": [
           "#636efa",
           "#EF553B",
           "#00cc96",
           "#ab63fa",
           "#FFA15A",
           "#19d3f3",
           "#FF6692",
           "#B6E880",
           "#FF97FF",
           "#FECB52"
          ],
          "font": {
           "color": "#2a3f5f"
          },
          "geo": {
           "bgcolor": "white",
           "lakecolor": "white",
           "landcolor": "#E5ECF6",
           "showlakes": true,
           "showland": true,
           "subunitcolor": "white"
          },
          "hoverlabel": {
           "align": "left"
          },
          "hovermode": "closest",
          "mapbox": {
           "style": "light"
          },
          "paper_bgcolor": "white",
          "plot_bgcolor": "#E5ECF6",
          "polar": {
           "angularaxis": {
            "gridcolor": "white",
            "linecolor": "white",
            "ticks": ""
           },
           "bgcolor": "#E5ECF6",
           "radialaxis": {
            "gridcolor": "white",
            "linecolor": "white",
            "ticks": ""
           }
          },
          "scene": {
           "xaxis": {
            "backgroundcolor": "#E5ECF6",
            "gridcolor": "white",
            "gridwidth": 2,
            "linecolor": "white",
            "showbackground": true,
            "ticks": "",
            "zerolinecolor": "white"
           },
           "yaxis": {
            "backgroundcolor": "#E5ECF6",
            "gridcolor": "white",
            "gridwidth": 2,
            "linecolor": "white",
            "showbackground": true,
            "ticks": "",
            "zerolinecolor": "white"
           },
           "zaxis": {
            "backgroundcolor": "#E5ECF6",
            "gridcolor": "white",
            "gridwidth": 2,
            "linecolor": "white",
            "showbackground": true,
            "ticks": "",
            "zerolinecolor": "white"
           }
          },
          "shapedefaults": {
           "line": {
            "color": "#2a3f5f"
           }
          },
          "ternary": {
           "aaxis": {
            "gridcolor": "white",
            "linecolor": "white",
            "ticks": ""
           },
           "baxis": {
            "gridcolor": "white",
            "linecolor": "white",
            "ticks": ""
           },
           "bgcolor": "#E5ECF6",
           "caxis": {
            "gridcolor": "white",
            "linecolor": "white",
            "ticks": ""
           }
          },
          "title": {
           "x": 0.05
          },
          "xaxis": {
           "automargin": true,
           "gridcolor": "white",
           "linecolor": "white",
           "ticks": "",
           "title": {
            "standoff": 15
           },
           "zerolinecolor": "white",
           "zerolinewidth": 2
          },
          "yaxis": {
           "automargin": true,
           "gridcolor": "white",
           "linecolor": "white",
           "ticks": "",
           "title": {
            "standoff": 15
           },
           "zerolinecolor": "white",
           "zerolinewidth": 2
          }
         }
        },
        "title": {
         "text": "Prix au m²"
        },
        "xaxis": {
         "anchor": "y",
         "domain": [
          0,
          1
         ],
         "title": {
          "text": "cadastre"
         }
        },
        "yaxis": {
         "anchor": "x",
         "domain": [
          0,
          1
         ],
         "title": {
          "text": "prix_metre_carre"
         }
        }
       }
      }
     },
     "metadata": {},
     "output_type": "display_data"
    }
   ],
   "source": [
    "#afficher le prix moyen au m² dans les cadastres\n",
    "import plotly.express as px\n",
    "fig = px.scatter(ds, x='cadastre', y='prix_metre_carre', title='Prix au m²')\n",
    "#ajouter une ligne pour la moyenne totale\n",
    "fig.add_hline(y=ds['prix_metre_carre'].mean())\n",
    "fig.show()"
   ]
  },
  {
   "cell_type": "code",
   "execution_count": null,
   "metadata": {},
   "outputs": [],
   "source": []
  }
 ],
 "metadata": {
  "kernelspec": {
   "display_name": "base",
   "language": "python",
   "name": "python3"
  },
  "language_info": {
   "codemirror_mode": {
    "name": "ipython",
    "version": 3
   },
   "file_extension": ".py",
   "mimetype": "text/x-python",
   "name": "python",
   "nbconvert_exporter": "python",
   "pygments_lexer": "ipython3",
   "version": "3.9.7"
  },
  "orig_nbformat": 4,
  "vscode": {
   "interpreter": {
    "hash": "036966f7f27c9c2a2152b443c469e31d55d303821a37165e84fe91ddfa9505cb"
   }
  }
 },
 "nbformat": 4,
 "nbformat_minor": 2
}
